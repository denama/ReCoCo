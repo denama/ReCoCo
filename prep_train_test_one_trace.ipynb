{
 "cells": [
  {
   "cell_type": "code",
   "execution_count": 6,
   "id": "ce9c27f1-906d-42a2-83a2-86efe8e730b7",
   "metadata": {},
   "outputs": [],
   "source": [
    "from conf_dict_util import conf_to_dict\n",
    "from conf_dict_params import input_conf"
   ]
  },
  {
   "cell_type": "code",
   "execution_count": 7,
   "id": "d697344d-9ea1-450f-af76-5335484aac1b",
   "metadata": {},
   "outputs": [],
   "source": [
    "save_dir = \"./data\"\n",
    "\n",
    "tensorboard_dir = \"./tensorboard_logs/curriculum_reward_v1/\"\n",
    "save_subfolder = \"curriculum_reward_v1\"\n",
    "suffix = f\"curriculum_reward_v1\"\n",
    "\n",
    "num_timesteps = input_conf[\"num_timesteps\"]\n",
    "num_episodes = input_conf[\"num_episodes\"]\n",
    "\n",
    "\n",
    "#Train it with vec_env, then run it with normal env\n",
    "\n",
    "rates_delay_loss = {}\n",
    "\n",
    "#Order by average reward\n",
    "traces = [\n",
    "    \"./traces/trace_300k.json\",\n",
    "    \"./traces/WIRED_900kbps.json\",\n",
    "    \"./traces/WIRED_200kbps.json\",\n",
    "    \"./traces/4G_700kbps.json\",\n",
    "    \"./traces/4G_500kbps.json\",\n",
    "    \"./traces/WIRED_35mbps.json\",\n",
    "    \"./traces/5G_12mbps.json\",\n",
    "    \"./traces/5G_13mbps.json\",\n",
    "    \"./traces/4G_3mbps.json\",\n",
    "           ]"
   ]
  },
  {
   "cell_type": "code",
   "execution_count": 8,
   "id": "3c283d03-f776-4fd3-bbf9-63a384ac47ff",
   "metadata": {},
   "outputs": [
    {
     "data": {
      "text/plain": [
       "['SAC_WIRED_900kbps_200_delay_True_norm_states_True_tuned_True_reward_profile_0_seed_22',\n",
       " 'TD3_WIRED_200kbps_200_delay_False_norm_states_True_tuned_False_reward_profile_0_seed_22',\n",
       " 'TD3_WIRED_35mbps_200_delay_True_norm_states_True_tuned_False_reward_profile_0_seed_22',\n",
       " 'TD3_4G_700kbps_200_delay_True_norm_states_True_tuned_False_reward_profile_0_seed_22',\n",
       " 'SAC_4G_3mbps_200_delay_True_norm_states_True_tuned_True_reward_profile_0_seed_22',\n",
       " 'TD3_4G_500kbps_200_delay_True_norm_states_True_tuned_True_reward_profile_0_seed_22',\n",
       " 'TD3_5G_12mbps_200_delay_True_norm_states_True_tuned_False_reward_profile_0_seed_22',\n",
       " 'TD3_5G_13mbps_200_delay_False_norm_states_True_tuned_False_reward_profile_0_seed_22',\n",
       " 'TD3_trace_300k_200_delay_True_norm_states_True_tuned_True_reward_profile_0_seed_22']"
      ]
     },
     "execution_count": 8,
     "metadata": {},
     "output_type": "execute_result"
    }
   ],
   "source": [
    "from best_algs import best_models_dict\n",
    "list_conf_names = [d[200] for d in best_models_dict.values()]\n",
    "list_conf_names"
   ]
  },
  {
   "cell_type": "code",
   "execution_count": 12,
   "id": "147115ed-d931-4489-9bf0-4400d067d2ad",
   "metadata": {},
   "outputs": [],
   "source": [
    "dict_trace_path_best_conf = {\n",
    "   \"./traces/trace_300k.json\": \"TD3_trace_300k_200_delay_True_norm_states_True_tuned_True_reward_profile_0\",\n",
    "   \"./traces/WIRED_900kbps.json\": \"SAC_WIRED_900kbps_200_delay_True_norm_states_True_tuned_True_reward_profile_0\",\n",
    "   \"./traces/WIRED_200kbps.json\": \"TD3_WIRED_200kbps_200_delay_False_norm_states_True_tuned_False_reward_profile_0\", \n",
    "   \"./traces/4G_700kbps.json\": \"TD3_4G_700kbps_200_delay_True_norm_states_True_tuned_False_reward_profile_0\",\n",
    "    \"./traces/4G_500kbps.json\": \"TD3_4G_500kbps_200_delay_True_norm_states_True_tuned_True_reward_profile_0\",\n",
    "    \"./traces/WIRED_35mbps.json\": \"TD3_WIRED_35mbps_200_delay_True_norm_states_True_tuned_False_reward_profile_0\",\n",
    "    \"./traces/5G_12mbps.json\": \"TD3_5G_12mbps_200_delay_True_norm_states_True_tuned_False_reward_profile_0\",\n",
    "    \"./traces/5G_13mbps.json\": \"TD3_5G_13mbps_200_delay_False_norm_states_True_tuned_False_reward_profile_0\",\n",
    "    \"./traces/4G_3mbps.json\": \"SAC_4G_3mbps_200_delay_True_norm_states_True_tuned_True_reward_profile_0\"\n",
    "}"
   ]
  },
  {
   "cell_type": "code",
   "execution_count": 13,
   "id": "c23b7e07-c7d9-49fd-b2f7-07a5bd155857",
   "metadata": {},
   "outputs": [
    {
     "name": "stdout",
     "output_type": "stream",
     "text": [
      "{'trace_path': './traces/trace_300k.json', 'trace_name': 'trace_300k', 'delay_states': True, 'normalize_states': True, 'step_time': 200, 'alg': 'TD3', 'tuned': True, 'reward_profile': 0, 'seed': 0}\n",
      "{'trace_path': './traces/WIRED_900kbps.json', 'trace_name': 'WIRED_900kbps', 'delay_states': True, 'normalize_states': True, 'step_time': 200, 'alg': 'SAC', 'tuned': True, 'reward_profile': 0, 'seed': 0}\n",
      "{'trace_path': './traces/WIRED_200kbps.json', 'trace_name': 'WIRED_200kbps', 'delay_states': False, 'normalize_states': True, 'step_time': 200, 'alg': 'TD3', 'tuned': False, 'reward_profile': 0, 'seed': 0}\n",
      "{'trace_path': './traces/4G_700kbps.json', 'trace_name': '4G_700kbps', 'delay_states': True, 'normalize_states': True, 'step_time': 200, 'alg': 'TD3', 'tuned': False, 'reward_profile': 0, 'seed': 0}\n",
      "{'trace_path': './traces/4G_500kbps.json', 'trace_name': '4G_500kbps', 'delay_states': True, 'normalize_states': True, 'step_time': 200, 'alg': 'TD3', 'tuned': True, 'reward_profile': 0, 'seed': 0}\n",
      "{'trace_path': './traces/WIRED_35mbps.json', 'trace_name': 'WIRED_35mbps', 'delay_states': True, 'normalize_states': True, 'step_time': 200, 'alg': 'TD3', 'tuned': False, 'reward_profile': 0, 'seed': 0}\n",
      "{'trace_path': './traces/5G_12mbps.json', 'trace_name': '5G_12mbps', 'delay_states': True, 'normalize_states': True, 'step_time': 200, 'alg': 'TD3', 'tuned': False, 'reward_profile': 0, 'seed': 0}\n",
      "{'trace_path': './traces/5G_13mbps.json', 'trace_name': '5G_13mbps', 'delay_states': False, 'normalize_states': True, 'step_time': 200, 'alg': 'TD3', 'tuned': False, 'reward_profile': 0, 'seed': 0}\n",
      "{'trace_path': './traces/4G_3mbps.json', 'trace_name': '4G_3mbps', 'delay_states': True, 'normalize_states': True, 'step_time': 200, 'alg': 'SAC', 'tuned': True, 'reward_profile': 0, 'seed': 0}\n"
     ]
    }
   ],
   "source": [
    "for trace_path in traces:\n",
    "    print(conf_to_dict(dict_trace_path_best_conf[trace_path]))"
   ]
  },
  {
   "cell_type": "code",
   "execution_count": null,
   "id": "b99cdb73-478e-4a9c-b896-82279aaab762",
   "metadata": {},
   "outputs": [],
   "source": [
    "#Order by gap to baseline\n",
    "traces = [\n",
    "    \"./traces/4G_3mbps.json\",\n",
    "    \"./traces/trace_300k.json\",\n",
    "    \"./traces/5G_12mbps.json\",\n",
    "    \"./traces/5G_13mbps.json\",\n",
    "    \"./traces/WIRED_900kbps.json\",\n",
    "    \"./traces/WIRED_35mbps.json\",\n",
    "    \"./traces/4G_700kbps.json\",\n",
    "    \"./traces/WIRED_200kbps.json\",\n",
    "    \"./traces/4G_500kbps.json\",\n",
    "           ]"
   ]
  },
  {
   "cell_type": "code",
   "execution_count": null,
   "id": "4a089993-6380-4626-8e4c-f0372eb43804",
   "metadata": {},
   "outputs": [],
   "source": [
    "['4G_3mbps', 'trace_300k', '5G_12mbps', '5G_13mbps', 'WIRED_900kbps',\n",
    "       'WIRED_35mbps', '4G_700kbps', 'WIRED_200kbps', '4G_500kbps'],"
   ]
  },
  {
   "cell_type": "code",
   "execution_count": null,
   "id": "ba68f446-11cb-4048-af5b-8df75f30e1d5",
   "metadata": {},
   "outputs": [],
   "source": [
    "# ['trace_300k', 'WIRED_900kbps', 'WIRED_200kbps', '4G_700kbps',\n",
    "#        '4G_500kbps', 'WIRED_35mbps', '5G_12mbps', '5G_13mbps', '4G_3mbps']"
   ]
  }
 ],
 "metadata": {
  "kernelspec": {
   "display_name": "venv_RL_rtc",
   "language": "python",
   "name": "venv_rl_rtc"
  },
  "language_info": {
   "codemirror_mode": {
    "name": "ipython",
    "version": 3
   },
   "file_extension": ".py",
   "mimetype": "text/x-python",
   "name": "python",
   "nbconvert_exporter": "python",
   "pygments_lexer": "ipython3",
   "version": "3.10.8"
  }
 },
 "nbformat": 4,
 "nbformat_minor": 5
}
