{
 "cells": [
  {
   "cell_type": "code",
   "execution_count": 1,
   "id": "deb067af-3a60-4388-a1b2-a799d4a7c023",
   "metadata": {},
   "outputs": [],
   "source": [
    "import itertools\n",
    "import os\n",
    "import glob\n",
    "import pandas as pd\n",
    "import pickle\n",
    "from conf_dict_params import config_dict_grid, traces"
   ]
  },
  {
   "cell_type": "code",
   "execution_count": 2,
   "id": "4cde095c-4d4d-43db-adec-855a8c7ada56",
   "metadata": {},
   "outputs": [
    {
     "name": "stdout",
     "output_type": "stream",
     "text": [
      "Len permutation dicts:  120\n"
     ]
    }
   ],
   "source": [
    "keys, values = zip(*config_dict_grid.items())\n",
    "permutation_dicts = [dict(zip(keys, v)) for v in itertools.product(*values)]\n",
    "print(\"Len permutation dicts: \", len(permutation_dicts))"
   ]
  },
  {
   "cell_type": "markdown",
   "id": "c256b93e-5a14-4214-bd76-0dd7874350c0",
   "metadata": {},
   "source": [
    "## Make a custom permutaiton dict with only best alg"
   ]
  },
  {
   "cell_type": "code",
   "execution_count": 3,
   "id": "5831d745-e463-4321-a4d7-e3eb0ddd2221",
   "metadata": {
    "tags": []
   },
   "outputs": [
    {
     "data": {
      "text/plain": [
       "{'trace': './traces/WIRED_35mbps.json',\n",
       " 'delay_states': False,\n",
       " 'normalize_states': True,\n",
       " 'step_time': 200,\n",
       " 'alg': 'SAC',\n",
       " 'tuned': False,\n",
       " 'reward_profile': 0}"
      ]
     },
     "execution_count": 3,
     "metadata": {},
     "output_type": "execute_result"
    }
   ],
   "source": [
    "permutation_dicts[20]"
   ]
  },
  {
   "cell_type": "code",
   "execution_count": 4,
   "id": "881c4b01-8e20-4b42-bce9-73410e66b371",
   "metadata": {},
   "outputs": [
    {
     "data": {
      "text/plain": [
       "bool"
      ]
     },
     "execution_count": 4,
     "metadata": {},
     "output_type": "execute_result"
    }
   ],
   "source": [
    "type(permutation_dicts[0][\"delay_states\"])"
   ]
  },
  {
   "cell_type": "code",
   "execution_count": 5,
   "id": "9d08a85a-ef35-45c1-85b1-4f4830628e64",
   "metadata": {},
   "outputs": [
    {
     "name": "stdout",
     "output_type": "stream",
     "text": [
      "{'trace': './traces/WIRED_900kbps.json', 'delay_states': False, 'normalize_states': True, 'step_time': 200, 'alg': 'SAC', 'tuned': True, 'reward_profile': 0}\n",
      "{'trace': './traces/WIRED_900kbps.json', 'delay_states': False, 'normalize_states': True, 'step_time': 200, 'alg': 'SAC', 'tuned': True, 'reward_profile': 1}\n",
      "{'trace': './traces/WIRED_900kbps.json', 'delay_states': False, 'normalize_states': True, 'step_time': 200, 'alg': 'SAC', 'tuned': True, 'reward_profile': 2}\n",
      "{'trace': './traces/WIRED_900kbps.json', 'delay_states': False, 'normalize_states': True, 'step_time': 200, 'alg': 'SAC', 'tuned': True, 'reward_profile': 3}\n",
      "{'trace': './traces/WIRED_900kbps.json', 'delay_states': False, 'normalize_states': True, 'step_time': 200, 'alg': 'SAC', 'tuned': True, 'reward_profile': 4}\n",
      "{'trace': './traces/WIRED_35mbps.json', 'delay_states': False, 'normalize_states': True, 'step_time': 200, 'alg': 'TD3', 'tuned': True, 'reward_profile': 0}\n",
      "{'trace': './traces/WIRED_35mbps.json', 'delay_states': False, 'normalize_states': True, 'step_time': 200, 'alg': 'TD3', 'tuned': True, 'reward_profile': 1}\n",
      "{'trace': './traces/WIRED_35mbps.json', 'delay_states': False, 'normalize_states': True, 'step_time': 200, 'alg': 'TD3', 'tuned': True, 'reward_profile': 2}\n",
      "{'trace': './traces/WIRED_35mbps.json', 'delay_states': False, 'normalize_states': True, 'step_time': 200, 'alg': 'TD3', 'tuned': True, 'reward_profile': 3}\n",
      "{'trace': './traces/WIRED_35mbps.json', 'delay_states': False, 'normalize_states': True, 'step_time': 200, 'alg': 'TD3', 'tuned': True, 'reward_profile': 4}\n",
      "{'trace': './traces/WIRED_200kbps.json', 'delay_states': False, 'normalize_states': True, 'step_time': 200, 'alg': 'TD3', 'tuned': False, 'reward_profile': 0}\n",
      "{'trace': './traces/WIRED_200kbps.json', 'delay_states': False, 'normalize_states': True, 'step_time': 200, 'alg': 'TD3', 'tuned': False, 'reward_profile': 1}\n",
      "{'trace': './traces/WIRED_200kbps.json', 'delay_states': False, 'normalize_states': True, 'step_time': 200, 'alg': 'TD3', 'tuned': False, 'reward_profile': 2}\n",
      "{'trace': './traces/WIRED_200kbps.json', 'delay_states': False, 'normalize_states': True, 'step_time': 200, 'alg': 'TD3', 'tuned': False, 'reward_profile': 3}\n",
      "{'trace': './traces/WIRED_200kbps.json', 'delay_states': False, 'normalize_states': True, 'step_time': 200, 'alg': 'TD3', 'tuned': False, 'reward_profile': 4}\n",
      "{'trace': './traces/4G_700kbps.json', 'delay_states': False, 'normalize_states': True, 'step_time': 200, 'alg': 'TD3', 'tuned': True, 'reward_profile': 0}\n",
      "{'trace': './traces/4G_700kbps.json', 'delay_states': False, 'normalize_states': True, 'step_time': 200, 'alg': 'TD3', 'tuned': True, 'reward_profile': 1}\n",
      "{'trace': './traces/4G_700kbps.json', 'delay_states': False, 'normalize_states': True, 'step_time': 200, 'alg': 'TD3', 'tuned': True, 'reward_profile': 2}\n",
      "{'trace': './traces/4G_700kbps.json', 'delay_states': False, 'normalize_states': True, 'step_time': 200, 'alg': 'TD3', 'tuned': True, 'reward_profile': 3}\n",
      "{'trace': './traces/4G_700kbps.json', 'delay_states': False, 'normalize_states': True, 'step_time': 200, 'alg': 'TD3', 'tuned': True, 'reward_profile': 4}\n",
      "{'trace': './traces/4G_3mbps.json', 'delay_states': False, 'normalize_states': True, 'step_time': 200, 'alg': 'TD3', 'tuned': True, 'reward_profile': 0}\n",
      "{'trace': './traces/4G_3mbps.json', 'delay_states': False, 'normalize_states': True, 'step_time': 200, 'alg': 'TD3', 'tuned': True, 'reward_profile': 1}\n",
      "{'trace': './traces/4G_3mbps.json', 'delay_states': False, 'normalize_states': True, 'step_time': 200, 'alg': 'TD3', 'tuned': True, 'reward_profile': 2}\n",
      "{'trace': './traces/4G_3mbps.json', 'delay_states': False, 'normalize_states': True, 'step_time': 200, 'alg': 'TD3', 'tuned': True, 'reward_profile': 3}\n",
      "{'trace': './traces/4G_3mbps.json', 'delay_states': False, 'normalize_states': True, 'step_time': 200, 'alg': 'TD3', 'tuned': True, 'reward_profile': 4}\n",
      "{'trace': './traces/4G_500kbps.json', 'delay_states': False, 'normalize_states': True, 'step_time': 200, 'alg': 'TD3', 'tuned': True, 'reward_profile': 0}\n",
      "{'trace': './traces/4G_500kbps.json', 'delay_states': False, 'normalize_states': True, 'step_time': 200, 'alg': 'TD3', 'tuned': True, 'reward_profile': 1}\n",
      "{'trace': './traces/4G_500kbps.json', 'delay_states': False, 'normalize_states': True, 'step_time': 200, 'alg': 'TD3', 'tuned': True, 'reward_profile': 2}\n",
      "{'trace': './traces/4G_500kbps.json', 'delay_states': False, 'normalize_states': True, 'step_time': 200, 'alg': 'TD3', 'tuned': True, 'reward_profile': 3}\n",
      "{'trace': './traces/4G_500kbps.json', 'delay_states': False, 'normalize_states': True, 'step_time': 200, 'alg': 'TD3', 'tuned': True, 'reward_profile': 4}\n"
     ]
    }
   ],
   "source": [
    "new_permutation_dicts = []\n",
    "\n",
    "for d in permutation_dicts:\n",
    "    trace_name = d[\"trace\"].split(\"/\")[2].split(\".\")[0]\n",
    "    if trace_name == 'WIRED_900kbps':\n",
    "        #SAC, tuned\n",
    "        if (d[\"alg\"] == \"SAC\") and (d[\"tuned\"] == True):\n",
    "            new_permutation_dicts.append(d)\n",
    "\n",
    "    elif trace_name == \"WIRED_200kbps\":\n",
    "        #TD3_WIRED_200kbps_200_delay_False_norm_states_True_tuned_False\n",
    "        if (d[\"alg\"] == \"TD3\") and (d[\"tuned\"] == False):\n",
    "            new_permutation_dicts.append(d)\n",
    "\n",
    "    elif trace_name == \"WIRED_35mbps\":\n",
    "        #TD3_WIRED_35mbps_200_delay_False_norm_states_True_tuned_True\n",
    "        if (d[\"alg\"] == \"TD3\") and (d[\"tuned\"] == True):\n",
    "            new_permutation_dicts.append(d)\n",
    "\n",
    "    elif trace_name == \"4G_700kbps\":\n",
    "        #delay True is better but we go with delay False\n",
    "        #TD3_4G_700kbps_200_delay_True_norm_states_True_tuned_False\n",
    "        if (d[\"alg\"] == \"TD3\") and (d[\"tuned\"] == True):\n",
    "            new_permutation_dicts.append(d)\n",
    "    \n",
    "    elif trace_name == \"4G_3mbps\":\n",
    "        #TD3_4G_3mbps_200_delay_False_norm_states_True_tuned_True\n",
    "        if (d[\"alg\"] == \"TD3\") and (d[\"tuned\"] == True):\n",
    "            new_permutation_dicts.append(d)\n",
    "    \n",
    "    elif trace_name == \"4G_500kbps\":\n",
    "        #TD3_4G_500kbps_200_delay_False_norm_states_True_tuned_True\n",
    "        if (d[\"alg\"] == \"TD3\") and (d[\"tuned\"] == True):\n",
    "            new_permutation_dicts.append(d)\n",
    "\n",
    "    \n",
    "for di in new_permutation_dicts:\n",
    "    print(di)"
   ]
  },
  {
   "cell_type": "code",
   "execution_count": 9,
   "id": "dcc2c43f-5273-4d53-ae53-a146c40b9c13",
   "metadata": {},
   "outputs": [
    {
     "data": {
      "text/plain": [
       "int"
      ]
     },
     "execution_count": 9,
     "metadata": {},
     "output_type": "execute_result"
    }
   ],
   "source": [
    "type(new_permutation_dicts[0][\"reward_profile\"])"
   ]
  },
  {
   "cell_type": "code",
   "execution_count": 11,
   "id": "45dac254-6716-48d5-8190-e2f6d7448eee",
   "metadata": {},
   "outputs": [
    {
     "data": {
      "text/plain": [
       "30"
      ]
     },
     "execution_count": 11,
     "metadata": {},
     "output_type": "execute_result"
    }
   ],
   "source": [
    "len(new_permutation_dicts)"
   ]
  },
  {
   "cell_type": "code",
   "execution_count": 10,
   "id": "461bc395-27bf-4a2e-afcb-db6b8ab5c495",
   "metadata": {},
   "outputs": [],
   "source": [
    "with open('permutation_dicts_reward_profiles.pkl', 'wb') as f:\n",
    "    pickle.dump(new_permutation_dicts, f)"
   ]
  },
  {
   "cell_type": "code",
   "execution_count": null,
   "id": "47e7415e-4247-4073-b8f0-da18f897bb8e",
   "metadata": {},
   "outputs": [],
   "source": []
  },
  {
   "cell_type": "markdown",
   "id": "f0d3c505-743c-4695-80bd-5ebf5be3cb04",
   "metadata": {},
   "source": [
    "## See what is finished and what is missing"
   ]
  },
  {
   "cell_type": "code",
   "execution_count": null,
   "id": "e4373c40-6a40-47ef-9e49-1899a95982f9",
   "metadata": {},
   "outputs": [],
   "source": [
    "data_dir_list = os.listdir(\"./data_mp\")\n",
    "output_dir_list = os.listdir(\"./output_mp\")\n",
    "tensorboard_dir_list = os.listdir(\"./tensorboard_logs_mp\")"
   ]
  },
  {
   "cell_type": "code",
   "execution_count": null,
   "id": "8774fcd7-16d2-4a81-bd15-edfc463d5f30",
   "metadata": {},
   "outputs": [],
   "source": [
    "len(data_dir_list), len(output_dir_list), len(tensorboard_dir_list)"
   ]
  },
  {
   "cell_type": "code",
   "execution_count": null,
   "id": "a862f4bd-fc19-4140-99b3-809905f7d570",
   "metadata": {
    "tags": []
   },
   "outputs": [],
   "source": [
    "permutations_done = []\n",
    "permutations_there_but_not_done = []\n",
    "\n",
    "for d in output_dir_list:\n",
    "    \n",
    "    pickle_path = \"output_mp/\" + d\n",
    "    l_rate = pd.read_pickle(pickle_path)\n",
    "    trace = list(l_rate.keys())[0]\n",
    "    if len(l_rate[trace]) < 10:\n",
    "        print(len(l_rate[trace]))\n",
    "        permutations_there_but_not_done.append(d)\n",
    "    else: \n",
    "        d_splitted = d.split(\"_\")\n",
    "        alg = d_splitted[3]\n",
    "        trace_name = d_splitted[4] + \"_\" + d_splitted[5]\n",
    "        trace = \"./traces/\" + trace_name + \".json\"\n",
    "        step_time = int(d_splitted[6])\n",
    "        if d_splitted[8] == \"True\":\n",
    "            delay_states = True\n",
    "        else:\n",
    "            delay_states = False\n",
    "        if d_splitted[11] == \"True\":\n",
    "            normalize_states = True\n",
    "        else:\n",
    "            normalize_states = False\n",
    "        if d_splitted[13].split(\".\")[0] == \"True\":\n",
    "            tuned = True\n",
    "        else:\n",
    "            tuned = False\n",
    "\n",
    "        d_final = {\n",
    "         'trace': trace,\n",
    "         'delay_states': delay_states,\n",
    "         'normalize_states': normalize_states,\n",
    "         'step_time': step_time,\n",
    "         'alg': alg,\n",
    "         'tuned': tuned\n",
    "        }\n",
    "\n",
    "        permutations_done.append(d_final)"
   ]
  },
  {
   "cell_type": "code",
   "execution_count": null,
   "id": "60950ba4-c6a4-4d24-b19e-b244fcd84669",
   "metadata": {
    "tags": []
   },
   "outputs": [],
   "source": [
    "permutations_there_but_not_done"
   ]
  },
  {
   "cell_type": "code",
   "execution_count": null,
   "id": "b065d2f7-bc32-4e62-a60a-eb7b4a847a3f",
   "metadata": {},
   "outputs": [],
   "source": [
    "len(permutations_done)"
   ]
  },
  {
   "cell_type": "code",
   "execution_count": null,
   "id": "24f6bbf0-7ca4-48b8-97f9-b3e0040227d1",
   "metadata": {},
   "outputs": [],
   "source": [
    "len(permutation_dicts) - len(permutations_done)"
   ]
  },
  {
   "cell_type": "code",
   "execution_count": null,
   "id": "ba689d8d-92d1-4077-ac27-c7e23699c245",
   "metadata": {},
   "outputs": [],
   "source": [
    "permutations_to_do = [i for i in permutation_dicts if i not in permutations_done]\n",
    "len(permutations_to_do)"
   ]
  },
  {
   "cell_type": "code",
   "execution_count": null,
   "id": "9daecf35-e11c-431d-b2c9-9e4f17af35b3",
   "metadata": {
    "tags": []
   },
   "outputs": [],
   "source": [
    "real_permutations_to_do = []\n",
    "\n",
    "for p in permutations_to_do:\n",
    "    if (p[\"normalize_states\"] == True) and (p[\"alg\"] != \"PPO\") and (p[\"trace\"] != './big_trace/big_trace2.json'):\n",
    "        real_permutations_to_do.append(p)"
   ]
  },
  {
   "cell_type": "code",
   "execution_count": null,
   "id": "87bf5315-8489-426f-b838-d858157011d1",
   "metadata": {},
   "outputs": [],
   "source": [
    "len(real_permutations_to_do)"
   ]
  },
  {
   "cell_type": "code",
   "execution_count": null,
   "id": "de8df53b-cb28-499d-83de-a7b57b3e2639",
   "metadata": {},
   "outputs": [],
   "source": [
    "real_permutations_to_do"
   ]
  },
  {
   "cell_type": "code",
   "execution_count": null,
   "id": "d3e2ac7b-1c7c-48c7-b92b-3df4dafba22c",
   "metadata": {},
   "outputs": [],
   "source": [
    "with open('permutation_dicts_big_trace_only.pkl', 'wb') as f:\n",
    "    pickle.dump(real_permutations_to_do, f)"
   ]
  },
  {
   "cell_type": "code",
   "execution_count": null,
   "id": "f41639b6-3df1-4715-985d-bddb56929c2b",
   "metadata": {},
   "outputs": [],
   "source": [
    "len(pd.read_pickle('permutation_dicts_big_trace_only.pkl'))"
   ]
  },
  {
   "cell_type": "code",
   "execution_count": null,
   "id": "c5bf7c58-5575-4c9e-9993-a6e5c6c1a9c3",
   "metadata": {},
   "outputs": [],
   "source": [
    "for i in range(3,6):\n",
    "    print(i)"
   ]
  },
  {
   "cell_type": "markdown",
   "id": "06139f1a-1d10-4084-a17e-25fc5ba74ecd",
   "metadata": {},
   "source": [
    "## Deleting permutations_there_but_not_done - uncommment"
   ]
  },
  {
   "cell_type": "code",
   "execution_count": null,
   "id": "399bf6b3-5a4f-4365-aa0b-922becdf549e",
   "metadata": {},
   "outputs": [],
   "source": [
    "for fname in permutations_there_but_not_done:\n",
    "    fname = \"./output_mp/\" + fname\n",
    "    print(fname)\n",
    "    if os.path.isfile(fname): # this makes the code more robust\n",
    "        # os.remove(fname)\n",
    "        continue"
   ]
  },
  {
   "cell_type": "code",
   "execution_count": null,
   "id": "27731ffd-573d-4fd7-8c6e-de6fa13af43b",
   "metadata": {},
   "outputs": [],
   "source": [
    "# to_delete = [\n",
    "# \"SAC_WIRED_900kbps_400_delay_False_norm_states_True_tuned_True\",\n",
    "# \"SAC_WIRED_900kbps_600_delay_True_norm_states_False_tuned_True\",\n",
    "# \"PPO_WIRED_900kbps_400_delay_True_norm_states_True_tuned_False\",\n",
    "# \"PPO_WIRED_900kbps_400_delay_False_norm_states_False_tuned_True\",\n",
    "# \"TD3_WIRED_35mbps_200_delay_True_norm_states_True_tuned_False\"  \n",
    "# ]"
   ]
  }
 ],
 "metadata": {
  "kernelspec": {
   "display_name": "Python 3 (ipykernel)",
   "language": "python",
   "name": "python3"
  },
  "language_info": {
   "codemirror_mode": {
    "name": "ipython",
    "version": 3
   },
   "file_extension": ".py",
   "mimetype": "text/x-python",
   "name": "python",
   "nbconvert_exporter": "python",
   "pygments_lexer": "ipython3",
   "version": "3.7.9"
  }
 },
 "nbformat": 4,
 "nbformat_minor": 5
}
