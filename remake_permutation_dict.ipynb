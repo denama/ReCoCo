{
 "cells": [
  {
   "cell_type": "code",
   "execution_count": 147,
   "id": "deb067af-3a60-4388-a1b2-a799d4a7c023",
   "metadata": {},
   "outputs": [],
   "source": [
    "import itertools\n",
    "import os\n",
    "import glob\n",
    "import pandas as pd\n",
    "from conf_dict_params import config_dict_grid, traces"
   ]
  },
  {
   "cell_type": "code",
   "execution_count": 148,
   "id": "4cde095c-4d4d-43db-adec-855a8c7ada56",
   "metadata": {},
   "outputs": [
    {
     "name": "stdout",
     "output_type": "stream",
     "text": [
      "Len permutation dicts:  504\n"
     ]
    }
   ],
   "source": [
    "keys, values = zip(*config_dict_grid.items())\n",
    "permutation_dicts = [dict(zip(keys, v)) for v in itertools.product(*values)]\n",
    "print(\"Len permutation dicts: \", len(permutation_dicts))"
   ]
  },
  {
   "cell_type": "code",
   "execution_count": 150,
   "id": "e4373c40-6a40-47ef-9e49-1899a95982f9",
   "metadata": {},
   "outputs": [],
   "source": [
    "data_dir_list = os.listdir(\"./data_mp\")\n",
    "output_dir_list = os.listdir(\"./output_mp\")\n",
    "tensorboard_dir_list = os.listdir(\"./tensorboard_logs_mp\")"
   ]
  },
  {
   "cell_type": "code",
   "execution_count": 151,
   "id": "8774fcd7-16d2-4a81-bd15-edfc463d5f30",
   "metadata": {},
   "outputs": [
    {
     "data": {
      "text/plain": [
       "(112, 112, 112)"
      ]
     },
     "execution_count": 151,
     "metadata": {},
     "output_type": "execute_result"
    }
   ],
   "source": [
    "len(data_dir_list), len(output_dir_list), len(tensorboard_dir_list)"
   ]
  },
  {
   "cell_type": "code",
   "execution_count": 153,
   "id": "a862f4bd-fc19-4140-99b3-809905f7d570",
   "metadata": {
    "tags": []
   },
   "outputs": [],
   "source": [
    "permutations_done = []\n",
    "permutations_there_but_not_done = []\n",
    "\n",
    "for d in output_dir_list:\n",
    "    \n",
    "    pickle_path = \"output_mp/\" + d\n",
    "    l_rate = pd.read_pickle(pickle_path)\n",
    "    trace = list(l_rate.keys())[0]\n",
    "    if len(l_rate[trace]) <= 5:\n",
    "        permutations_there_but_not_done.append(d)\n",
    "    else: \n",
    "        d_splitted = d.split(\"_\")\n",
    "        alg = d_splitted[3]\n",
    "        trace_name = d_splitted[4] + \"_\" + d_splitted[5]\n",
    "        trace = \"./traces/\" + trace_name + \".json\"\n",
    "        step_time = int(d_splitted[6])\n",
    "        if d_splitted[8] == \"True\":\n",
    "            delay_states = True\n",
    "        else:\n",
    "            delay_states = False\n",
    "        if d_splitted[11] == \"True\":\n",
    "            normalize_states = True\n",
    "        else:\n",
    "            normalize_states = False\n",
    "        if d_splitted[13].split(\".\")[0] == \"True\":\n",
    "            tuned = True\n",
    "        else:\n",
    "            tuned = False\n",
    "\n",
    "        d_final = {\n",
    "         'trace': trace,\n",
    "         'delay_states': delay_states,\n",
    "         'normalize_states': normalize_states,\n",
    "         'step_time': step_time,\n",
    "         'alg': alg,\n",
    "         'tuned': tuned\n",
    "        }\n",
    "\n",
    "        permutations_done.append(d_final)"
   ]
  },
  {
   "cell_type": "code",
   "execution_count": 154,
   "id": "60950ba4-c6a4-4d24-b19e-b244fcd84669",
   "metadata": {
    "tags": []
   },
   "outputs": [
    {
     "data": {
      "text/plain": [
       "[]"
      ]
     },
     "execution_count": 154,
     "metadata": {},
     "output_type": "execute_result"
    }
   ],
   "source": [
    "permutations_there_but_not_done"
   ]
  },
  {
   "cell_type": "code",
   "execution_count": 155,
   "id": "b065d2f7-bc32-4e62-a60a-eb7b4a847a3f",
   "metadata": {},
   "outputs": [
    {
     "data": {
      "text/plain": [
       "112"
      ]
     },
     "execution_count": 155,
     "metadata": {},
     "output_type": "execute_result"
    }
   ],
   "source": [
    "len(permutations_done)"
   ]
  },
  {
   "cell_type": "code",
   "execution_count": 157,
   "id": "24f6bbf0-7ca4-48b8-97f9-b3e0040227d1",
   "metadata": {},
   "outputs": [
    {
     "data": {
      "text/plain": [
       "392"
      ]
     },
     "execution_count": 157,
     "metadata": {},
     "output_type": "execute_result"
    }
   ],
   "source": [
    "len(permutation_dicts) - len(permutations_done)"
   ]
  },
  {
   "cell_type": "code",
   "execution_count": 158,
   "id": "ba689d8d-92d1-4077-ac27-c7e23699c245",
   "metadata": {},
   "outputs": [
    {
     "data": {
      "text/plain": [
       "392"
      ]
     },
     "execution_count": 158,
     "metadata": {},
     "output_type": "execute_result"
    }
   ],
   "source": [
    "permutations_to_do = [i for i in permutation_dicts if i not in permutations_done]\n",
    "len(permutations_to_do)"
   ]
  },
  {
   "cell_type": "code",
   "execution_count": 165,
   "id": "9daecf35-e11c-431d-b2c9-9e4f17af35b3",
   "metadata": {
    "tags": []
   },
   "outputs": [
    {
     "data": {
      "text/plain": [
       "{'trace': './traces/WIRED_200kbps.json',\n",
       " 'delay_states': False,\n",
       " 'normalize_states': False,\n",
       " 'step_time': 600,\n",
       " 'alg': 'SAC',\n",
       " 'tuned': True}"
      ]
     },
     "execution_count": 165,
     "metadata": {},
     "output_type": "execute_result"
    }
   ],
   "source": [
    "permutations_to_do[:100]"
   ]
  },
  {
   "cell_type": "code",
   "execution_count": 182,
   "id": "530c64c6-fbde-40af-91a4-a7abca9105d8",
   "metadata": {},
   "outputs": [
    {
     "data": {
      "text/plain": [
       "{'trace': './traces/4G_3mbps.json',\n",
       " 'delay_states': True,\n",
       " 'normalize_states': False,\n",
       " 'step_time': 200,\n",
       " 'alg': 'PPO',\n",
       " 'tuned': True}"
      ]
     },
     "execution_count": 182,
     "metadata": {},
     "output_type": "execute_result"
    }
   ],
   "source": [
    "permutations_to_do[101:200][-1]"
   ]
  },
  {
   "cell_type": "code",
   "execution_count": 167,
   "id": "0c7d4ffe-dda0-4f88-ae01-c7517937a7b5",
   "metadata": {
    "tags": []
   },
   "outputs": [
    {
     "data": {
      "text/plain": [
       "{'trace': './traces/4G_3mbps.json',\n",
       " 'delay_states': True,\n",
       " 'normalize_states': False,\n",
       " 'step_time': 400,\n",
       " 'alg': 'SAC',\n",
       " 'tuned': True}"
      ]
     },
     "execution_count": 167,
     "metadata": {},
     "output_type": "execute_result"
    }
   ],
   "source": [
    "permutations_to_do[201:300][0]"
   ]
  },
  {
   "cell_type": "code",
   "execution_count": 188,
   "id": "9a79c3e6-84e7-4110-a3c4-f8173d34c80d",
   "metadata": {},
   "outputs": [
    {
     "data": {
      "text/plain": [
       "{'trace': './big_trace/big_trace2.json',\n",
       " 'delay_states': False,\n",
       " 'normalize_states': False,\n",
       " 'step_time': 600,\n",
       " 'alg': 'PPO',\n",
       " 'tuned': True}"
      ]
     },
     "execution_count": 188,
     "metadata": {},
     "output_type": "execute_result"
    }
   ],
   "source": [
    "permutations_to_do[301:][-1]"
   ]
  },
  {
   "cell_type": "code",
   "execution_count": 171,
   "id": "de8df53b-cb28-499d-83de-a7b57b3e2639",
   "metadata": {},
   "outputs": [],
   "source": [
    "import pickle"
   ]
  },
  {
   "cell_type": "code",
   "execution_count": 175,
   "id": "d3e2ac7b-1c7c-48c7-b92b-3df4dafba22c",
   "metadata": {},
   "outputs": [],
   "source": [
    "# with open('permutation_dicts_301_to_392.pkl', 'wb') as f:\n",
    "#     pickle.dump(permutations_to_do[301:], f)"
   ]
  },
  {
   "cell_type": "code",
   "execution_count": 191,
   "id": "f41639b6-3df1-4715-985d-bddb56929c2b",
   "metadata": {},
   "outputs": [
    {
     "data": {
      "text/plain": [
       "{'trace': './big_trace/big_trace2.json',\n",
       " 'delay_states': False,\n",
       " 'normalize_states': False,\n",
       " 'step_time': 600,\n",
       " 'alg': 'PPO',\n",
       " 'tuned': True}"
      ]
     },
     "execution_count": 191,
     "metadata": {},
     "output_type": "execute_result"
    }
   ],
   "source": [
    "pd.read_pickle(\"permutation_dicts_301_to_392.pkl\")[-1]"
   ]
  },
  {
   "cell_type": "code",
   "execution_count": null,
   "id": "c5bf7c58-5575-4c9e-9993-a6e5c6c1a9c3",
   "metadata": {},
   "outputs": [],
   "source": []
  },
  {
   "cell_type": "markdown",
   "id": "06139f1a-1d10-4084-a17e-25fc5ba74ecd",
   "metadata": {},
   "source": [
    "## Deleting permutations_there_but_not_done - uncommment"
   ]
  },
  {
   "cell_type": "code",
   "execution_count": 160,
   "id": "399bf6b3-5a4f-4365-aa0b-922becdf549e",
   "metadata": {},
   "outputs": [],
   "source": [
    "for fname in permutations_there_but_not_done:\n",
    "    fname = \"./output_mp/\" + fname\n",
    "    print(fname)\n",
    "    if os.path.isfile(fname): # this makes the code more robust\n",
    "        # os.remove(fname)\n",
    "        continue"
   ]
  },
  {
   "cell_type": "code",
   "execution_count": 161,
   "id": "27731ffd-573d-4fd7-8c6e-de6fa13af43b",
   "metadata": {},
   "outputs": [],
   "source": [
    "# to_delete = [\n",
    "# \"SAC_WIRED_900kbps_400_delay_False_norm_states_True_tuned_True\",\n",
    "# \"SAC_WIRED_900kbps_600_delay_True_norm_states_False_tuned_True\",\n",
    "# \"PPO_WIRED_900kbps_400_delay_True_norm_states_True_tuned_False\",\n",
    "# \"PPO_WIRED_900kbps_400_delay_False_norm_states_False_tuned_True\",\n",
    "# \"TD3_WIRED_35mbps_200_delay_True_norm_states_True_tuned_False\"  \n",
    "# ]"
   ]
  }
 ],
 "metadata": {
  "kernelspec": {
   "display_name": "Python 3 (ipykernel)",
   "language": "python",
   "name": "python3"
  },
  "language_info": {
   "codemirror_mode": {
    "name": "ipython",
    "version": 3
   },
   "file_extension": ".py",
   "mimetype": "text/x-python",
   "name": "python",
   "nbconvert_exporter": "python",
   "pygments_lexer": "ipython3",
   "version": "3.7.9"
  }
 },
 "nbformat": 4,
 "nbformat_minor": 5
}
