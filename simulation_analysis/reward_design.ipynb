{
 "cells": [
  {
   "cell_type": "code",
   "execution_count": 1,
   "metadata": {},
   "outputs": [],
   "source": [
    "import pandas as pd\n",
    "import numpy as np\n",
    "from plot_cdf import plot_cdf, plot_cdf_multiple\n",
    "import matplotlib.pyplot as plt\n",
    "import json\n",
    "import os\n",
    "import glob"
   ]
  },
  {
   "cell_type": "markdown",
   "metadata": {},
   "source": [
    "# Try out reward fuctions"
   ]
  },
  {
   "cell_type": "code",
   "execution_count": 13,
   "metadata": {},
   "outputs": [],
   "source": [
    "U = 0.7\n",
    "d=300\n",
    "l=0.0"
   ]
  },
  {
   "cell_type": "code",
   "execution_count": 14,
   "metadata": {},
   "outputs": [
    {
     "data": {
      "text/plain": [
       "0.262"
      ]
     },
     "execution_count": 14,
     "metadata": {},
     "output_type": "execute_result"
    }
   ],
   "source": [
    "#Covers cases for 0 <= U <= 1\n",
    "if (U >= 0) and (U <= 0.65):\n",
    "    Ru = 1.538*U - 1\n",
    "elif (U > 0.65) and (U <= 1):\n",
    "    Ru = -8.2*((U-1)**2) + 1\n",
    "    \n",
    "Ru = round(Ru, 4)\n",
    "Ru"
   ]
  },
  {
   "cell_type": "code",
   "execution_count": 15,
   "metadata": {},
   "outputs": [
    {
     "data": {
      "text/plain": [
       "-1"
      ]
     },
     "execution_count": 15,
     "metadata": {},
     "output_type": "execute_result"
    }
   ],
   "source": [
    "#Covers cases for 0 <= d <= 200\n",
    "if (d >= 0) and (d <= 150):\n",
    "    Rd = -0.00667*d + 1\n",
    "elif (d > 150) and (d <= 200):\n",
    "    Rd = -0.02*d + 3\n",
    "elif (d > 200):\n",
    "    Rd = -1\n",
    "\n",
    "Rd = round(Rd, 4)\n",
    "Rd"
   ]
  },
  {
   "cell_type": "code",
   "execution_count": 16,
   "metadata": {},
   "outputs": [
    {
     "data": {
      "text/plain": [
       "1"
      ]
     },
     "execution_count": 16,
     "metadata": {},
     "output_type": "execute_result"
    }
   ],
   "source": [
    "#Covers cases for 0 <= l <= 1\n",
    "if (l >= 0) and (l <= 0.02):\n",
    "    Rl = 1\n",
    "elif (l > 0.02) and (l <= 0.1):\n",
    "    Rl = 156*((l-0.1)**2)\n",
    "elif (l > 0.1) and (l <= 0.2):\n",
    "    Rl = 100*((l-0.2)**2) - 1\n",
    "elif (l > 0.2) and (l <= 1):\n",
    "    Rl = -1\n",
    "    \n",
    "Rl = round(Rl, 4)\n",
    "Rl"
   ]
  },
  {
   "cell_type": "code",
   "execution_count": 17,
   "metadata": {},
   "outputs": [
    {
     "data": {
      "text/plain": [
       "0.08724599999999999"
      ]
     },
     "execution_count": 17,
     "metadata": {},
     "output_type": "execute_result"
    }
   ],
   "source": [
    "#Sum all rewards\n",
    "R = 0.333*Ru + 0.333*Rd + 0.333*Rl\n",
    "R"
   ]
  },
  {
   "cell_type": "code",
   "execution_count": 18,
   "metadata": {},
   "outputs": [
    {
     "data": {
      "text/plain": [
       "-0.0952"
      ]
     },
     "execution_count": 18,
     "metadata": {},
     "output_type": "execute_result"
    }
   ],
   "source": [
    "R = (2/5) * Ru + (2/5) * Rd + (1/5) * Rl\n",
    "R"
   ]
  },
  {
   "cell_type": "code",
   "execution_count": 9,
   "metadata": {},
   "outputs": [
    {
     "data": {
      "text/plain": [
       "0.4"
      ]
     },
     "execution_count": 9,
     "metadata": {},
     "output_type": "execute_result"
    }
   ],
   "source": [
    "2/5"
   ]
  },
  {
   "cell_type": "code",
   "execution_count": 10,
   "metadata": {},
   "outputs": [
    {
     "data": {
      "text/plain": [
       "0.2"
      ]
     },
     "execution_count": 10,
     "metadata": {},
     "output_type": "execute_result"
    }
   ],
   "source": [
    "1/5"
   ]
  },
  {
   "cell_type": "code",
   "execution_count": 12,
   "metadata": {},
   "outputs": [
    {
     "data": {
      "text/plain": [
       "0.70872"
      ]
     },
     "execution_count": 12,
     "metadata": {},
     "output_type": "execute_result"
    }
   ],
   "source": [
    "0.4*Ru + 0.4*Rd + 0.2*Rl"
   ]
  },
  {
   "cell_type": "code",
   "execution_count": null,
   "metadata": {},
   "outputs": [],
   "source": []
  }
 ],
 "metadata": {
  "kernelspec": {
   "display_name": "Python 3",
   "language": "python",
   "name": "python3"
  },
  "language_info": {
   "codemirror_mode": {
    "name": "ipython",
    "version": 3
   },
   "file_extension": ".py",
   "mimetype": "text/x-python",
   "name": "python",
   "nbconvert_exporter": "python",
   "pygments_lexer": "ipython3",
   "version": "3.8.3"
  }
 },
 "nbformat": 4,
 "nbformat_minor": 4
}
