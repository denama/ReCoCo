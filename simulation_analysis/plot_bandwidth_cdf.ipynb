{
 "cells": [
  {
   "cell_type": "markdown",
   "id": "bb8261bd-9482-4421-b8b0-f206ca64db61",
   "metadata": {},
   "source": [
    "## Plot bandwidth CDF"
   ]
  },
  {
   "cell_type": "code",
   "execution_count": 1,
   "id": "ee14db86-ae25-47b1-99bf-ec83903e2486",
   "metadata": {},
   "outputs": [],
   "source": [
    "import pandas as pd\n",
    "import numpy as np\n",
    "from plot_cdf import plot_cdf, plot_cdf_multiple\n",
    "import matplotlib.pyplot as plt\n",
    "import json\n",
    "import os\n",
    "import glob\n",
    "import sys\n",
    "module_path = os.path.abspath(os.path.join('..'))\n",
    "if module_path not in sys.path:\n",
    "    sys.path.append(module_path)\n",
    "\n",
    "from conf_dict_util import conf_to_dict, dict_to_conf\n",
    "from qoe_utils import make_bandwidth_series, get_QoE_rr, get_QoE_delay, get_QoE_losses"
   ]
  },
  {
   "cell_type": "code",
   "execution_count": 2,
   "id": "ca6510be-7db2-415a-a969-96288e4d32b3",
   "metadata": {},
   "outputs": [],
   "source": [
    "from matplotlib import rcParams\n",
    "#IEEE Times New Roman (Nimbus Roman)\n",
    "rcParams['text.latex.preamble'] = r\"\\usepackage{mathptmx}\"\n",
    "\n",
    "#Latex in general\n",
    "rcParams['font.family'] = \"serif\"\n",
    "rcParams['font.serif'] = ['Computer Modern']\n",
    "rcParams['text.usetex'] = True"
   ]
  },
  {
   "cell_type": "code",
   "execution_count": 3,
   "id": "037bc74d-6414-40ff-8de6-6bf8b5517eb9",
   "metadata": {},
   "outputs": [],
   "source": [
    "traces = [\n",
    "'WIRED_200kbps',\n",
    "'WIRED_900kbps',\n",
    "'WIRED_35mbps',\n",
    "'4G_500kbps',\n",
    "'4G_700kbps',\n",
    "'4G_3mbps',\n",
    "'5G_12mbps',\n",
    "'5G_13mbps',\n",
    "'trace_300k']\n",
    "step_time = 200"
   ]
  },
  {
   "cell_type": "code",
   "execution_count": 41,
   "id": "daa7a6c5-7564-4ab4-8315-1e357ac00ba5",
   "metadata": {
    "collapsed": true,
    "jupyter": {
     "outputs_hidden": true
    },
    "tags": []
   },
   "outputs": [
    {
     "name": "stdout",
     "output_type": "stream",
     "text": [
      "WIRED_200kbps 222.8 s\n",
      "1970-01-01 00:00:00.000    236\n",
      "1970-01-01 00:00:00.200    236\n",
      "1970-01-01 00:00:00.400    236\n",
      "1970-01-01 00:00:00.600    246\n",
      "1970-01-01 00:00:00.800    246\n",
      "                          ... \n",
      "1970-01-01 00:03:42.000     22\n",
      "1970-01-01 00:03:42.200     22\n",
      "1970-01-01 00:03:42.400     22\n",
      "1970-01-01 00:03:42.600     22\n",
      "1970-01-01 00:03:42.800     22\n",
      "Freq: 200L, Length: 1115, dtype: int64\n",
      "WIRED_900kbps 57.6 s\n",
      "1970-01-01 00:00:00.000     790\n",
      "1970-01-01 00:00:00.200     790\n",
      "1970-01-01 00:00:00.400     790\n",
      "1970-01-01 00:00:00.600     900\n",
      "1970-01-01 00:00:00.800     900\n",
      "                           ... \n",
      "1970-01-01 00:00:56.800     869\n",
      "1970-01-01 00:00:57.000     869\n",
      "1970-01-01 00:00:57.200     869\n",
      "1970-01-01 00:00:57.400    1051\n",
      "1970-01-01 00:00:57.600    1051\n",
      "Freq: 200L, Length: 289, dtype: int64\n",
      "WIRED_35mbps 61.2 s\n",
      "1970-01-01 00:00:00.000         0\n",
      "1970-01-01 00:00:00.200         0\n",
      "1970-01-01 00:00:00.400     54600\n",
      "1970-01-01 00:00:00.600    130000\n",
      "1970-01-01 00:00:00.800    101000\n",
      "                            ...  \n",
      "1970-01-01 00:01:00.400     35400\n",
      "1970-01-01 00:01:00.600     26000\n",
      "1970-01-01 00:01:00.800     22000\n",
      "1970-01-01 00:01:01.000     57400\n",
      "1970-01-01 00:01:01.200     36800\n",
      "Freq: 200L, Length: 307, dtype: int64\n",
      "4G_500kbps 106.0 s\n",
      "1970-01-01 00:00:00.000      2.40\n",
      "1970-01-01 00:00:00.200      2.40\n",
      "1970-01-01 00:00:00.400    291.76\n",
      "1970-01-01 00:00:00.600    291.76\n",
      "1970-01-01 00:00:00.800    583.52\n",
      "                            ...  \n",
      "1970-01-01 00:01:45.200    416.80\n",
      "1970-01-01 00:01:45.400    375.12\n",
      "1970-01-01 00:01:45.600    208.40\n",
      "1970-01-01 00:01:45.800     41.68\n",
      "1970-01-01 00:01:46.000    166.72\n",
      "Freq: 200L, Length: 531, dtype: float64\n",
      "4G_700kbps 106.6 s\n",
      "1970-01-01 00:00:00.000       2.40\n",
      "1970-01-01 00:00:00.200       2.40\n",
      "1970-01-01 00:00:00.400     416.80\n",
      "1970-01-01 00:00:00.600     333.44\n",
      "1970-01-01 00:00:00.800     250.08\n",
      "                            ...   \n",
      "1970-01-01 00:01:45.800    1125.36\n",
      "1970-01-01 00:01:46.000    1000.32\n",
      "1970-01-01 00:01:46.200     833.60\n",
      "1970-01-01 00:01:46.400     875.28\n",
      "1970-01-01 00:01:46.600     750.24\n",
      "Freq: 200L, Length: 534, dtype: float64\n",
      "4G_3mbps 60.8 s\n",
      "1970-01-01 00:00:00.000       0\n",
      "1970-01-01 00:00:00.200       0\n",
      "1970-01-01 00:00:00.400    1720\n",
      "1970-01-01 00:00:00.600    2200\n",
      "1970-01-01 00:00:00.800       3\n",
      "                           ... \n",
      "1970-01-01 00:01:00.000       0\n",
      "1970-01-01 00:01:00.200       0\n",
      "1970-01-01 00:01:00.400    5680\n",
      "1970-01-01 00:01:00.600    1080\n",
      "1970-01-01 00:01:00.800     120\n",
      "Freq: 200L, Length: 305, dtype: int64\n",
      "5G_12mbps 61.0 s\n",
      "1970-01-01 00:00:00.000        0\n",
      "1970-01-01 00:00:00.200        0\n",
      "1970-01-01 00:00:00.400        0\n",
      "1970-01-01 00:00:00.600     6320\n",
      "1970-01-01 00:00:00.800    15600\n",
      "                           ...  \n",
      "1970-01-01 00:01:00.200    14700\n",
      "1970-01-01 00:01:00.400    16200\n",
      "1970-01-01 00:01:00.600    11200\n",
      "1970-01-01 00:01:00.800     6590\n",
      "1970-01-01 00:01:01.000    12600\n",
      "Freq: 200L, Length: 306, dtype: int64\n",
      "5G_13mbps 60.6 s\n",
      "1970-01-01 00:00:00.000        0\n",
      "1970-01-01 00:00:00.200        0\n",
      "1970-01-01 00:00:00.400        0\n",
      "1970-01-01 00:00:00.600     8240\n",
      "1970-01-01 00:00:00.800    15300\n",
      "                           ...  \n",
      "1970-01-01 00:00:59.800       17\n",
      "1970-01-01 00:01:00.000    17500\n",
      "1970-01-01 00:01:00.200    16700\n",
      "1970-01-01 00:01:00.400    16500\n",
      "1970-01-01 00:01:00.600    15500\n",
      "Freq: 200L, Length: 304, dtype: int64\n",
      "trace_300k 60.0 s\n",
      "1970-01-01 00:00:00.000    300\n",
      "1970-01-01 00:00:00.200    300\n",
      "1970-01-01 00:00:00.400    300\n",
      "1970-01-01 00:00:00.600    300\n",
      "1970-01-01 00:00:00.800    300\n",
      "                          ... \n",
      "1970-01-01 00:00:59.200    300\n",
      "1970-01-01 00:00:59.400    300\n",
      "1970-01-01 00:00:59.600    300\n",
      "1970-01-01 00:00:59.800    300\n",
      "1970-01-01 00:01:00.000    300\n",
      "Freq: 200L, Length: 301, dtype: int64\n"
     ]
    }
   ],
   "source": [
    "lolo_capacities = []\n",
    "std_cap = []\n",
    "durations = []\n",
    "for trace in traces:\n",
    "    trace_path = \"../\" + \"traces/\" + trace + \".json\"\n",
    "\n",
    "    capacities = make_bandwidth_series(trace_path, step_time)\n",
    "    duration = (capacities.index[-1] - capacities.index[0]).total_seconds()\n",
    "    print(trace, duration, \"s\")\n",
    "    print(capacities)\n",
    "    std_cap.append(capacities.std())\n",
    "    lolo_capacities.append(list(capacities))\n",
    "    durations.append(duration)"
   ]
  },
  {
   "cell_type": "code",
   "execution_count": 32,
   "id": "529cb115-8702-4630-8a5e-1f1bdc52e272",
   "metadata": {},
   "outputs": [
    {
     "data": {
      "text/plain": [
       "88.51111111111112"
      ]
     },
     "execution_count": 32,
     "metadata": {},
     "output_type": "execute_result"
    }
   ],
   "source": [
    "pd.Series(durations).mean()"
   ]
  },
  {
   "cell_type": "code",
   "execution_count": 40,
   "id": "98b7aa45-ae76-4b54-8880-61338f5b8668",
   "metadata": {},
   "outputs": [
    {
     "data": {
      "text/plain": [
       "[62.949828827029506,\n",
       " 99.39340325751554,\n",
       " 3212091.5917504495,\n",
       " 201.57417155620453,\n",
       " 255.30793720413266,\n",
       " 460242.1088893621,\n",
       " 4660.145181182325,\n",
       " 1622620.2283722297,\n",
       " 0.0]"
      ]
     },
     "execution_count": 40,
     "metadata": {},
     "output_type": "execute_result"
    }
   ],
   "source": [
    "std_cap"
   ]
  },
  {
   "cell_type": "code",
   "execution_count": 5,
   "id": "fc4376be-11c9-4c12-ab1a-92e3d84dc471",
   "metadata": {},
   "outputs": [],
   "source": [
    "qoe = [86.46932081217852,\n",
    " 94.46026348796617,\n",
    " 62.07838234136955,\n",
    " 86.69129895603862,\n",
    " 85.40900904005426,\n",
    " 87.00677524473494,\n",
    " 74.04304749601823,\n",
    " 64.34435097745765,\n",
    " 87.14904733496331]"
   ]
  },
  {
   "cell_type": "code",
   "execution_count": 6,
   "id": "0970f229-6a87-4c54-b98a-e70e7c28f8fc",
   "metadata": {},
   "outputs": [
    {
     "data": {
      "text/plain": [
       "(-10.0, 300.0)"
      ]
     },
     "execution_count": 6,
     "metadata": {},
     "output_type": "execute_result"
    },
    {
     "data": {
      "image/png": "[encoded data removed]",
      "text/plain": [
       "<Figure size 640x480 with 1 Axes>"
      ]
     },
     "metadata": {},
     "output_type": "display_data"
    }
   ],
   "source": [
    "plt.scatter(qoe, std_cap)\n",
    "plt.xlabel(\"QoE\")\n",
    "plt.ylabel(\"Bandwidth standard deviation\")\n",
    "plt.grid()\n",
    "plt.ylim(-10,300)\n",
    "# plt.yscale(\"log\")"
   ]
  },
  {
   "cell_type": "code",
   "execution_count": 5,
   "id": "f4030ba8-8e7c-4f50-9e03-f533c03b95f5",
   "metadata": {},
   "outputs": [],
   "source": [
    "import itertools"
   ]
  },
  {
   "cell_type": "code",
   "execution_count": 6,
   "id": "eccd204b-fbd9-4e9b-8f1e-07f196e6561c",
   "metadata": {},
   "outputs": [],
   "source": [
    "trace_dict = {\n",
    "'WIRED_900kbps': \"Wired 900kbps\",\n",
    " 'WIRED_200kbps': \"Wired 200kbps\",\n",
    " 'WIRED_35mbps': \"Wired 35Mbps\",\n",
    " '4G_700kbps': \"4G 700kbps\",\n",
    " '4G_3mbps': \"4G 3Mbps\",\n",
    " '4G_500kbps': \"4G 500kbps\",\n",
    " '5G_12mbps': \"5G 12Mbps\",\n",
    " '5G_13mbps': \"5G 13Mbps\",\n",
    " 'trace_300k': \"300kbps\"\n",
    "}"
   ]
  },
  {
   "cell_type": "code",
   "execution_count": 55,
   "id": "71582f36-fa36-4b20-962d-19e266b6faf1",
   "metadata": {},
   "outputs": [
    {
     "data": {
      "image/png": "[encoded data removed]",
      "text/plain": [
       "<Figure size 800x300 with 1 Axes>"
      ]
     },
     "metadata": {},
     "output_type": "display_data"
    }
   ],
   "source": [
    "list_cdf_data = lolo_capacities\n",
    "\n",
    "figsize = (8, 3)\n",
    "labelspacing = 0.2\n",
    "legend_fontsize = 12\n",
    "fontsize = 14\n",
    "x_label = \"Bandwidth [kbps]\"\n",
    "\n",
    "# colors_dataset = [\"#8c564b\", \"#e377c2\", \"#7f7f7f\", \"#bcbd22\", \"#17becf\"]\n",
    "linestyles = [\"solid\", \"dashed\", \"dotted\", \"dashdot\", (0, (3, 1, 1, 1))]\n",
    "colors_dataset = [\"indianred\", \"teal\", \"lightgreen\"]\n",
    "cd = itertools.cycle(colors_dataset)\n",
    "\n",
    "fig, ax = plt.subplots(figsize=figsize)\n",
    "ax.tick_params(axis='both', which='minor',\n",
    "               length=0,\n",
    "               # direction='in'\n",
    "              )\n",
    "ax.tick_params(axis='both', which='major',\n",
    "               #length=0,\n",
    "               # direction='in'\n",
    "              )\n",
    "c = 0\n",
    "for i in range(len(list_cdf_data)):\n",
    "    if c%3 == 0:\n",
    "        ls = itertools.cycle(linestyles)\n",
    "    c+=1\n",
    "    data = list_cdf_data[i]\n",
    "    label = trace_dict[traces[i]]\n",
    "    cdfx = np.sort(data)\n",
    "    cdfy = np.linspace(1 / len(data), 1.0, len(data))\n",
    "    if \"Wired\" in label:\n",
    "        color = \"green\"\n",
    "    elif \"4G\" in label:\n",
    "        color = \"royalblue\"\n",
    "    elif \"5G\" in label:\n",
    "        color = \"indianred\"\n",
    "    elif \"300kbps\" in label:\n",
    "        color = \"orange\"\n",
    "\n",
    "    p = plt.plot(cdfx, cdfy,\n",
    "                 linestyle=next(ls),\n",
    "                 label=label,\n",
    "                 color = color\n",
    "                )\n",
    "\n",
    "# plt.xticks(np.arange(0,26,2))\n",
    "plt.xscale('log')\n",
    "plt.yticks(np.arange(0,1.1,0.2))\n",
    "ax.tick_params(axis='y', labelsize=fontsize)\n",
    "ax.tick_params(axis='x', labelsize=fontsize)\n",
    "\n",
    "plt.xlabel(x_label, fontsize=fontsize, labelpad=10)\n",
    "plt.xlim(1,100000)\n",
    "plt.ylabel('ECDF', fontsize=fontsize, labelpad=10)\n",
    "plt.grid()\n",
    "\n",
    "plt.xticks([1, 10, 100, 1000, 10000, 100000], [1, 10, 100, 1000, 10000, 100000])\n",
    "\n",
    "plt.legend(prop={'size': legend_fontsize}, labelspacing=labelspacing, bbox_to_anchor=(1.58,0.98))\n",
    "plt.tight_layout()\n",
    "\n",
    "plt.savefig(\"plots/bandwidth_all_traces.pdf\",  bbox_inches='tight')"
   ]
  },
  {
   "cell_type": "code",
   "execution_count": 16,
   "id": "5f989360-ee84-4015-bfca-654b4a536f49",
   "metadata": {},
   "outputs": [
    {
     "data": {
      "text/plain": [
       "array([1.e-01, 1.e+00, 1.e+01, 1.e+02, 1.e+03, 1.e+04, 1.e+05, 1.e+06])"
      ]
     },
     "execution_count": 16,
     "metadata": {},
     "output_type": "execute_result"
    }
   ],
   "source": [
    "ax.get_xticks()"
   ]
  },
  {
   "cell_type": "code",
   "execution_count": null,
   "id": "3da53d41-b858-4894-8c43-8565f3e2878c",
   "metadata": {},
   "outputs": [],
   "source": []
  }
 ],
 "metadata": {
  "kernelspec": {
   "display_name": "Python 3 (ipykernel)",
   "language": "python",
   "name": "python3"
  },
  "language_info": {
   "codemirror_mode": {
    "name": "ipython",
    "version": 3
   },
   "file_extension": ".py",
   "mimetype": "text/x-python",
   "name": "python",
   "nbconvert_exporter": "python",
   "pygments_lexer": "ipython3",
   "version": "3.10.5"
  }
 },
 "nbformat": 4,
 "nbformat_minor": 5
}
