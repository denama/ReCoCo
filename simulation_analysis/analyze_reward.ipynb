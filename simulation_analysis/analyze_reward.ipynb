{
 "cells": [
  {
   "cell_type": "code",
   "execution_count": 1,
   "metadata": {},
   "outputs": [],
   "source": [
    "import pandas as pd\n",
    "import numpy as np\n",
    "from plot_cdf import plot_cdf, plot_cdf_multiple\n",
    "import matplotlib.pyplot as plt\n",
    "import json\n",
    "import os\n",
    "import glob\n",
    "import torch"
   ]
  },
  {
   "cell_type": "code",
   "execution_count": 2,
   "metadata": {},
   "outputs": [],
   "source": [
    "pickle_path = \"/home/dena/Documents/Gym_RTC/gym-example/rates_delay_loss.pickle\"\n",
    "l_rate = pd.read_pickle(pickle_path)"
   ]
  },
  {
   "cell_type": "code",
   "execution_count": 3,
   "metadata": {},
   "outputs": [
    {
     "data": {
      "text/plain": [
       "4"
      ]
     },
     "execution_count": 3,
     "metadata": {},
     "output_type": "execute_result"
    }
   ],
   "source": [
    "len(l_rate)"
   ]
  },
  {
   "cell_type": "code",
   "execution_count": 4,
   "metadata": {},
   "outputs": [],
   "source": [
    "total_reward = []\n",
    "avg_reward = []\n",
    "\n",
    "for i in range(len(l_rate)):\n",
    "    l_reward = l_rate[i][\"reward\"]\n",
    "    total_reward.append(np.sum(l_reward))\n",
    "    avg_reward.append(np.mean(l_reward))\n",
    "\n",
    "cumulative_reward = np.cumsum(avg_reward)"
   ]
  },
  {
   "cell_type": "code",
   "execution_count": 5,
   "metadata": {},
   "outputs": [
    {
     "data": {
      "text/plain": [
       "array([0.24176457, 0.48401135, 0.71242824, 0.96555765])"
      ]
     },
     "execution_count": 5,
     "metadata": {},
     "output_type": "execute_result"
    }
   ],
   "source": [
    "cumulative_reward"
   ]
  },
  {
   "cell_type": "code",
   "execution_count": 6,
   "metadata": {},
   "outputs": [
    {
     "data": {
      "text/plain": [
       "[69.86996, 70.00932, 66.01248000000001, 73.15440000000001]"
      ]
     },
     "execution_count": 6,
     "metadata": {},
     "output_type": "execute_result"
    }
   ],
   "source": [
    "total_reward"
   ]
  },
  {
   "cell_type": "code",
   "execution_count": 11,
   "metadata": {},
   "outputs": [
    {
     "data": {
      "text/plain": [
       "[0.350815440245109,\n",
       " 0.3536352027339055,\n",
       " 0.35432115907932993,\n",
       " 0.3521228207270077,\n",
       " 0.3531488204240222,\n",
       " 0.3576044158736055,\n",
       " 0.35442859072175587,\n",
       " 0.3470820396954254,\n",
       " 0.3530207447555465]"
      ]
     },
     "execution_count": 11,
     "metadata": {},
     "output_type": "execute_result"
    }
   ],
   "source": [
    "avg_reward"
   ]
  },
  {
   "cell_type": "code",
   "execution_count": 16,
   "metadata": {},
   "outputs": [
    {
     "data": {
      "text/plain": [
       "array([[0.77822144, 0.90553545, 0.35645551, 0.96324961, 0.38930355],\n",
       "       [0.38685035, 0.64710791, 0.11205128, 0.24669493, 0.49525394],\n",
       "       [0.42244442, 0.2332793 , 0.1821964 , 0.10256148, 0.64619553],\n",
       "       [0.0192837 , 0.37692295, 0.84492991, 0.53364953, 0.30959748]])"
      ]
     },
     "execution_count": 16,
     "metadata": {},
     "output_type": "execute_result"
    }
   ],
   "source": [
    "state = np.random.rand(4,5)\n",
    "state"
   ]
  },
  {
   "cell_type": "code",
   "execution_count": 19,
   "metadata": {},
   "outputs": [
    {
     "data": {
      "text/plain": [
       "0.38930355448132503"
      ]
     },
     "execution_count": 19,
     "metadata": {},
     "output_type": "execute_result"
    }
   ],
   "source": [
    "state[0, -1]"
   ]
  },
  {
   "cell_type": "code",
   "execution_count": 26,
   "metadata": {},
   "outputs": [
    {
     "data": {
      "text/plain": [
       "array([[0.90553545, 0.35645551, 0.96324961, 0.38930355, 0.77822144],\n",
       "       [0.64710791, 0.11205128, 0.24669493, 0.49525394, 0.38685035],\n",
       "       [0.2332793 , 0.1821964 , 0.10256148, 0.64619553, 0.42244442],\n",
       "       [0.37692295, 0.84492991, 0.53364953, 0.30959748, 0.0192837 ]])"
      ]
     },
     "execution_count": 26,
     "metadata": {},
     "output_type": "execute_result"
    }
   ],
   "source": [
    "np.roll(state, -1, axis=1)"
   ]
  },
  {
   "cell_type": "code",
   "execution_count": 1,
   "metadata": {},
   "outputs": [
    {
     "data": {
      "text/plain": [
       "tensor([[[0., 0., 0., 0., 0.],\n",
       "         [0., 0., 0., 0., 0.],\n",
       "         [0., 0., 0., 0., 0.],\n",
       "         [0., 0., 0., 0., 0.]]])"
      ]
     },
     "execution_count": 1,
     "metadata": {},
     "output_type": "execute_result"
    }
   ],
   "source": [
    "import torch\n",
    "state = torch.zeros((1, 4, 5))\n",
    "state"
   ]
  },
  {
   "cell_type": "code",
   "execution_count": 11,
   "metadata": {},
   "outputs": [
    {
     "data": {
      "text/plain": [
       "tensor([[0.7407, 0.9312, 0.6832, 0.2729, 0.3208],\n",
       "        [0.7007, 0.8484, 0.9079, 0.7356, 0.2935],\n",
       "        [0.8711, 0.9356, 0.7107, 0.1619, 0.7554],\n",
       "        [0.4195, 0.2456, 0.3346, 0.2533, 0.8671]])"
      ]
     },
     "execution_count": 11,
     "metadata": {},
     "output_type": "execute_result"
    }
   ],
   "source": [
    "state = torch.rand(size=(4, 5))\n",
    "state"
   ]
  },
  {
   "cell_type": "code",
   "execution_count": 14,
   "metadata": {},
   "outputs": [],
   "source": [
    "state[0, -1] = 5\n",
    "state[1, -1] = 4"
   ]
  },
  {
   "cell_type": "code",
   "execution_count": 15,
   "metadata": {},
   "outputs": [
    {
     "data": {
      "text/plain": [
       "tensor([[0.7407, 0.9312, 0.6832, 0.2729, 5.0000],\n",
       "        [0.7007, 0.8484, 0.9079, 0.7356, 4.0000],\n",
       "        [0.8711, 0.9356, 0.7107, 0.1619, 0.7554],\n",
       "        [0.4195, 0.2456, 0.3346, 0.2533, 0.8671]])"
      ]
     },
     "execution_count": 15,
     "metadata": {},
     "output_type": "execute_result"
    }
   ],
   "source": [
    "state"
   ]
  },
  {
   "cell_type": "code",
   "execution_count": 16,
   "metadata": {},
   "outputs": [
    {
     "data": {
      "text/plain": [
       "tensor([[0.9312, 0.6832, 0.2729, 5.0000, 0.7407],\n",
       "        [0.8484, 0.9079, 0.7356, 4.0000, 0.7007],\n",
       "        [0.9356, 0.7107, 0.1619, 0.7554, 0.8711],\n",
       "        [0.2456, 0.3346, 0.2533, 0.8671, 0.4195]])"
      ]
     },
     "execution_count": 16,
     "metadata": {},
     "output_type": "execute_result"
    }
   ],
   "source": [
    "torch.roll(state, -1, dims=-1)"
   ]
  },
  {
   "cell_type": "code",
   "execution_count": null,
   "metadata": {},
   "outputs": [],
   "source": []
  }
 ],
 "metadata": {
  "kernelspec": {
   "display_name": "Python 3",
   "language": "python",
   "name": "python3"
  },
  "language_info": {
   "codemirror_mode": {
    "name": "ipython",
    "version": 3
   },
   "file_extension": ".py",
   "mimetype": "text/x-python",
   "name": "python",
   "nbconvert_exporter": "python",
   "pygments_lexer": "ipython3",
   "version": "3.8.3"
  }
 },
 "nbformat": 4,
 "nbformat_minor": 4
}
