{
 "cells": [
  {
   "cell_type": "code",
   "execution_count": 118,
   "id": "ef4a56ff-9db0-4527-a25d-6bee68b5b6e3",
   "metadata": {},
   "outputs": [],
   "source": [
    "from matplotlib import rcParams\n",
    "#IEEE Times New Roman (Nimbus Roman)\n",
    "rcParams['text.latex.preamble'] = r\"\\usepackage{mathptmx}\"\n",
    "\n",
    "#Latex in general\n",
    "rcParams['font.family'] = \"serif\"\n",
    "rcParams['font.serif'] = ['Computer Modern']\n",
    "rcParams['text.usetex'] = True"
   ]
  },
  {
   "cell_type": "code",
   "execution_count": 122,
   "id": "1b3d06e7-27b1-4642-8db6-8b21a4a4f5bd",
   "metadata": {},
   "outputs": [
    {
     "data": {
      "image/png": "[encoded data removed]",
      "text/plain": [
       "<Figure size 250x200 with 1 Axes>"
      ]
     },
     "metadata": {},
     "output_type": "display_data"
    }
   ],
   "source": [
    "import matplotlib.pyplot as plt\n",
    "import numpy as np\n",
    "\n",
    "# 100 linearly spaced numbers\n",
    "x1 = np.linspace(0,0.65,100)\n",
    "x2 = np.linspace(0.65,1,100)\n",
    "\n",
    "y1 = 1.538*x1 - 1\n",
    "y2 = -8.2*((x2 - 1)**2) + 1\n",
    "\n",
    "# setting the axes at the centre\n",
    "figsize = (2.5,2)\n",
    "fontsize=12\n",
    "fig = plt.figure(figsize=figsize)\n",
    "ax = fig.add_subplot(1, 1, 1)\n",
    "ax.spines['left'].set_position(('data', -0.005))\n",
    "ax.spines['bottom'].set_position('center')\n",
    "ax.spines['right'].set_color('none')\n",
    "ax.spines['top'].set_color('none')\n",
    "ax.xaxis.set_ticks_position('bottom')\n",
    "ax.yaxis.set_ticks_position('left')\n",
    "plt.yticks([-1,0,1], [-1,0,1], fontsize=fontsize)\n",
    "plt.xticks([0.65,1], [0.65,1], fontsize=fontsize)\n",
    "plt.xlabel(\"u\", fontsize=fontsize)\n",
    "plt.ylabel(\"Ru\", fontsize=fontsize, rotation=0)\n",
    "ax.xaxis.set_label_coords(1.08, 0.5)\n",
    "ax.yaxis.set_label_coords(-0.12, 1)\n",
    "\n",
    "# plot the function\n",
    "plt.plot(x1,y1, 'g')\n",
    "plt.plot(x2,y2, 'g')\n",
    "plt.tight_layout()\n",
    "\n",
    "plt.savefig(\"plots/reward_u.pdf\")"
   ]
  },
  {
   "cell_type": "code",
   "execution_count": 123,
   "id": "7229ae98-0af3-4241-b2d6-a62415fab8cc",
   "metadata": {},
   "outputs": [
    {
     "data": {
      "image/png": "[encoded data removed]",
      "text/plain": [
       "<Figure size 250x200 with 1 Axes>"
      ]
     },
     "metadata": {},
     "output_type": "display_data"
    }
   ],
   "source": [
    "# 100 linearly spaced numbers\n",
    "x1 = np.linspace(0,150,100)\n",
    "x2 = np.linspace(150,200,100)\n",
    "\n",
    "\n",
    "y1 = -0.00667*x1 + 1\n",
    "y2 = -0.02*x2 + 3\n",
    "\n",
    "# setting the axes at the centre\n",
    "figsize = (2.5,2)\n",
    "fig = plt.figure(figsize=figsize)\n",
    "ax = fig.add_subplot(1, 1, 1)\n",
    "ax.spines['left'].set_position(('data', -3))\n",
    "ax.spines['bottom'].set_position('center')\n",
    "ax.spines['right'].set_color('none')\n",
    "ax.spines['top'].set_color('none')\n",
    "ax.xaxis.set_ticks_position('bottom')\n",
    "ax.yaxis.set_ticks_position('left')\n",
    "plt.yticks([-1,0,1], [-1,0,1], fontsize=fontsize)\n",
    "plt.xticks([150,200], [150,200], fontsize=fontsize)\n",
    "plt.xlabel(\"d\", fontsize=fontsize)\n",
    "plt.ylabel(\"Rd\", rotation=0, fontsize=fontsize)\n",
    "ax.xaxis.set_label_coords(1.08, 0.5)\n",
    "ax.yaxis.set_label_coords(-0.12, 1)\n",
    "\n",
    "# plot the function\n",
    "plt.plot(x1,y1, 'g')\n",
    "plt.plot(x2,y2, 'g')\n",
    "plt.tight_layout()\n",
    "\n",
    "plt.savefig(\"plots/reward_d.pdf\")"
   ]
  },
  {
   "cell_type": "code",
   "execution_count": 124,
   "id": "7d8e82e0-dad6-488b-9dae-cb6634cdbd44",
   "metadata": {},
   "outputs": [
    {
     "data": {
      "image/png": "[encoded data removed]",
      "text/plain": [
       "<Figure size 250x200 with 1 Axes>"
      ]
     },
     "metadata": {},
     "output_type": "display_data"
    }
   ],
   "source": [
    "# 100 linearly spaced numbers\n",
    "# x1 = np.linspace(0,0.02,100)\n",
    "x2 = np.linspace(0.02, 0.1, 100)\n",
    "x3 = np.linspace(0.1, 0.2, 100)\n",
    "# x4 = np.linspace(0.2,1,100)\n",
    "\n",
    "\n",
    "y2 = 156*(x2 - 0.1)**2\n",
    "y3 = 100*(x3 - 0.2)**2 - 1\n",
    "\n",
    "# setting the axes at the centre\n",
    "figsize = (2.5,2)\n",
    "fig = plt.figure(figsize=figsize)\n",
    "ax = fig.add_subplot(1, 1, 1)\n",
    "ax.hlines(y=1, xmin=0, xmax=0.02, color='g')\n",
    "ax.hlines(y=-1, xmin=0.2, xmax=1, color='g')\n",
    "\n",
    "ax.spines['left'].set_position(('data', -0.005))\n",
    "ax.spines['bottom'].set_position('center')\n",
    "ax.spines['right'].set_color('none')\n",
    "ax.spines['top'].set_color('none')\n",
    "ax.xaxis.set_ticks_position('bottom')\n",
    "ax.yaxis.set_ticks_position('left')\n",
    "plt.yticks([-1,0,1], [-1,0,1], fontsize=fontsize)\n",
    "plt.xticks([0.1,0.2,1], [0.1,0.2,1], fontsize=9)\n",
    "plt.xlabel(\"l\", fontsize=fontsize)\n",
    "plt.ylabel(\"Rl\", rotation=0, fontsize=fontsize)\n",
    "ax.xaxis.set_label_coords(1.08, 0.5)\n",
    "ax.yaxis.set_label_coords(-0.12, 1)\n",
    "\n",
    "# plot the function\n",
    "plt.plot(x2,y2, 'g')\n",
    "plt.plot(x3,y3, 'g')\n",
    "\n",
    "plt.tight_layout()\n",
    "\n",
    "plt.savefig(\"plots/reward_l.pdf\")"
   ]
  },
  {
   "cell_type": "code",
   "execution_count": null,
   "id": "8c0d4996-5b4a-441e-b233-22236803a5e2",
   "metadata": {},
   "outputs": [],
   "source": []
  }
 ],
 "metadata": {
  "kernelspec": {
   "display_name": "Python 3 (ipykernel)",
   "language": "python",
   "name": "python3"
  },
  "language_info": {
   "codemirror_mode": {
    "name": "ipython",
    "version": 3
   },
   "file_extension": ".py",
   "mimetype": "text/x-python",
   "name": "python",
   "nbconvert_exporter": "python",
   "pygments_lexer": "ipython3",
   "version": "3.10.5"
  }
 },
 "nbformat": 4,
 "nbformat_minor": 5
}
