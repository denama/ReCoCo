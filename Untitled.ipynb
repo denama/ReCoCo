{
 "cells": [
  {
   "cell_type": "code",
   "execution_count": 1,
   "id": "0063a146-d322-4247-b268-60db9ef6ef11",
   "metadata": {},
   "outputs": [
    {
     "name": "stdout",
     "output_type": "stream",
     "text": [
      "Conf: delay states True, norm states True, step time 200, alg TD3, tuned False, reward profile 0, seed 42\n",
      "I will save model in:  ./data/random_traces_v2\n"
     ]
    }
   ],
   "source": [
    "from stable_baselines3.common.env_checker import check_env\n",
    "\n",
    "from collections import defaultdict\n",
    "import pickle\n",
    "import pandas as pd\n",
    "import numpy as np\n",
    "import os\n",
    "import time\n",
    "import itertools\n",
    "import multiprocessing\n",
    "\n",
    "from stable_baselines3.common.env_util import make_vec_env\n",
    "from stable_baselines3 import PPO, A2C, TD3, SAC\n",
    "from stable_baselines3.common.noise import NormalActionNoise, OrnsteinUhlenbeckActionNoise\n",
    "\n",
    "from rtc_env import GymEnv\n",
    "from conf_dict_params import config_dict_grid, input_conf, hyperparams_TD3, hyperparams_SAC, hyperparams_PPO\n",
    "from conf_dict_util import conf_to_dict\n",
    "from best_algs import one_conf_models_dict\n",
    "\n",
    "\n",
    "\n",
    "tensorboard_dir = f\"./tensorboard_logs/random_traces_v2/\"\n",
    "save_subfolder = f\"random_traces_v2\"\n",
    "suffix = f\"random_traces_v2\"\n",
    "\n",
    "num_timesteps = input_conf[\"num_timesteps\"]\n",
    "num_episodes = 110\n",
    "continue_training = True\n",
    "\n",
    "save_dir = \"./data\"\n",
    "rates_delay_loss = {}\n",
    "\n",
    "list_conf_names = [d[200] for d in one_conf_models_dict.values()]\n",
    "conff = conf_to_dict(list_conf_names[0])\n",
    "\n",
    "delay_states = conff[\"delay_states\"]\n",
    "normalize_states = conff[\"normalize_states\"]\n",
    "step_time = conff[\"step_time\"]\n",
    "alg = conff[\"alg\"]\n",
    "tuned = conff[\"tuned\"]\n",
    "reward_profile = conff[\"reward_profile\"]\n",
    "seed = 42\n",
    "\n",
    "print(f\"Conf: delay states {delay_states}, norm states {normalize_states}, step time {step_time}, alg {alg}, tuned {tuned}, reward profile {reward_profile}, seed {seed}\")\n",
    "\n",
    "\n",
    "rates_delay_loss = {}\n",
    "\n",
    "\n",
    "start = time.time()\n",
    "\n",
    "env = GymEnv(step_time=step_time, normalize_states=normalize_states, reward_profile=reward_profile, delay_states=delay_states, random_trace=True)\n",
    "env = make_vec_env(lambda: env, n_envs=1, seed=seed)\n",
    "\n",
    "save_model_dir = os.path.join(save_dir, save_subfolder)\n",
    "print(\"I will save model in: \", save_model_dir)"
   ]
  },
  {
   "cell_type": "code",
   "execution_count": 2,
   "id": "0f94312e-918f-4816-afef-bbd7924b3435",
   "metadata": {},
   "outputs": [],
   "source": [
    "take_model_dir = os.path.join(save_model_dir, \"1000000.zip\")\n",
    "model = TD3.load(take_model_dir, env=env, tensorboard_log=tensorboard_dir)"
   ]
  },
  {
   "cell_type": "code",
   "execution_count": 9,
   "id": "58b2b51d-f4ad-4f4a-8e7b-87cda6ee9682",
   "metadata": {},
   "outputs": [
    {
     "data": {
      "text/plain": [
       "odict_keys(['actor.mu.0.weight', 'actor.mu.0.bias', 'actor.mu.2.weight', 'actor.mu.2.bias', 'actor.mu.4.weight', 'actor.mu.4.bias', 'actor_target.mu.0.weight', 'actor_target.mu.0.bias', 'actor_target.mu.2.weight', 'actor_target.mu.2.bias', 'actor_target.mu.4.weight', 'actor_target.mu.4.bias', 'critic.qf0.0.weight', 'critic.qf0.0.bias', 'critic.qf0.2.weight', 'critic.qf0.2.bias', 'critic.qf0.4.weight', 'critic.qf0.4.bias', 'critic.qf1.0.weight', 'critic.qf1.0.bias', 'critic.qf1.2.weight', 'critic.qf1.2.bias', 'critic.qf1.4.weight', 'critic.qf1.4.bias', 'critic_target.qf0.0.weight', 'critic_target.qf0.0.bias', 'critic_target.qf0.2.weight', 'critic_target.qf0.2.bias', 'critic_target.qf0.4.weight', 'critic_target.qf0.4.bias', 'critic_target.qf1.0.weight', 'critic_target.qf1.0.bias', 'critic_target.qf1.2.weight', 'critic_target.qf1.2.bias', 'critic_target.qf1.4.weight', 'critic_target.qf1.4.bias'])"
      ]
     },
     "execution_count": 9,
     "metadata": {},
     "output_type": "execute_result"
    }
   ],
   "source": [
    "model.get_parameters()[\"policy\"].keys()"
   ]
  },
  {
   "cell_type": "code",
   "execution_count": null,
   "id": "facd2b20-594b-423d-bf1c-ad8593532d0c",
   "metadata": {},
   "outputs": [],
   "source": []
  },
  {
   "cell_type": "code",
   "execution_count": null,
   "id": "b382ef35-f64b-4797-a97a-102a3c43565f",
   "metadata": {},
   "outputs": [],
   "source": []
  },
  {
   "cell_type": "code",
   "execution_count": 1,
   "id": "43e0650f-4acf-4923-bf82-86bcad015181",
   "metadata": {},
   "outputs": [],
   "source": [
    "import pandas as pd"
   ]
  },
  {
   "cell_type": "code",
   "execution_count": 4,
   "id": "1d64b349-069f-437a-b5e6-3b371e37135f",
   "metadata": {},
   "outputs": [
    {
     "data": {
      "text/html": [
       "<div>\n",
       "<style scoped>\n",
       "    .dataframe tbody tr th:only-of-type {\n",
       "        vertical-align: middle;\n",
       "    }\n",
       "\n",
       "    .dataframe tbody tr th {\n",
       "        vertical-align: top;\n",
       "    }\n",
       "\n",
       "    .dataframe thead th {\n",
       "        text-align: right;\n",
       "    }\n",
       "</style>\n",
       "<table border=\"1\" class=\"dataframe\">\n",
       "  <thead>\n",
       "    <tr style=\"text-align: right;\">\n",
       "      <th></th>\n",
       "      <th>0</th>\n",
       "      <th>1</th>\n",
       "      <th>2</th>\n",
       "      <th>3</th>\n",
       "      <th>4</th>\n",
       "      <th>5</th>\n",
       "      <th>6</th>\n",
       "      <th>7</th>\n",
       "    </tr>\n",
       "  </thead>\n",
       "  <tbody>\n",
       "    <tr>\n",
       "      <th>0</th>\n",
       "      <td>Elapsed</td>\n",
       "      <td>time</td>\n",
       "      <td>to</td>\n",
       "      <td>train</td>\n",
       "      <td>10000</td>\n",
       "      <td>steps:</td>\n",
       "      <td>141.67</td>\n",
       "      <td>s</td>\n",
       "    </tr>\n",
       "    <tr>\n",
       "      <th>1</th>\n",
       "      <td>Elapsed</td>\n",
       "      <td>time</td>\n",
       "      <td>to</td>\n",
       "      <td>train</td>\n",
       "      <td>10000</td>\n",
       "      <td>steps:</td>\n",
       "      <td>281.80</td>\n",
       "      <td>s</td>\n",
       "    </tr>\n",
       "    <tr>\n",
       "      <th>2</th>\n",
       "      <td>Elapsed</td>\n",
       "      <td>time</td>\n",
       "      <td>to</td>\n",
       "      <td>train</td>\n",
       "      <td>10000</td>\n",
       "      <td>steps:</td>\n",
       "      <td>418.47</td>\n",
       "      <td>s</td>\n",
       "    </tr>\n",
       "    <tr>\n",
       "      <th>3</th>\n",
       "      <td>Elapsed</td>\n",
       "      <td>time</td>\n",
       "      <td>to</td>\n",
       "      <td>train</td>\n",
       "      <td>10000</td>\n",
       "      <td>steps:</td>\n",
       "      <td>556.11</td>\n",
       "      <td>s</td>\n",
       "    </tr>\n",
       "    <tr>\n",
       "      <th>4</th>\n",
       "      <td>Elapsed</td>\n",
       "      <td>time</td>\n",
       "      <td>to</td>\n",
       "      <td>train</td>\n",
       "      <td>10000</td>\n",
       "      <td>steps:</td>\n",
       "      <td>700.92</td>\n",
       "      <td>s</td>\n",
       "    </tr>\n",
       "    <tr>\n",
       "      <th>...</th>\n",
       "      <td>...</td>\n",
       "      <td>...</td>\n",
       "      <td>...</td>\n",
       "      <td>...</td>\n",
       "      <td>...</td>\n",
       "      <td>...</td>\n",
       "      <td>...</td>\n",
       "      <td>...</td>\n",
       "    </tr>\n",
       "    <tr>\n",
       "      <th>95</th>\n",
       "      <td>Elapsed</td>\n",
       "      <td>time</td>\n",
       "      <td>to</td>\n",
       "      <td>train</td>\n",
       "      <td>10000</td>\n",
       "      <td>steps:</td>\n",
       "      <td>13790.23</td>\n",
       "      <td>s</td>\n",
       "    </tr>\n",
       "    <tr>\n",
       "      <th>96</th>\n",
       "      <td>Elapsed</td>\n",
       "      <td>time</td>\n",
       "      <td>to</td>\n",
       "      <td>train</td>\n",
       "      <td>10000</td>\n",
       "      <td>steps:</td>\n",
       "      <td>13929.34</td>\n",
       "      <td>s</td>\n",
       "    </tr>\n",
       "    <tr>\n",
       "      <th>97</th>\n",
       "      <td>Elapsed</td>\n",
       "      <td>time</td>\n",
       "      <td>to</td>\n",
       "      <td>train</td>\n",
       "      <td>10000</td>\n",
       "      <td>steps:</td>\n",
       "      <td>14067.66</td>\n",
       "      <td>s</td>\n",
       "    </tr>\n",
       "    <tr>\n",
       "      <th>98</th>\n",
       "      <td>Elapsed</td>\n",
       "      <td>time</td>\n",
       "      <td>to</td>\n",
       "      <td>train</td>\n",
       "      <td>10000</td>\n",
       "      <td>steps:</td>\n",
       "      <td>14206.71</td>\n",
       "      <td>s</td>\n",
       "    </tr>\n",
       "    <tr>\n",
       "      <th>99</th>\n",
       "      <td>Elapsed</td>\n",
       "      <td>time</td>\n",
       "      <td>to</td>\n",
       "      <td>train</td>\n",
       "      <td>10000</td>\n",
       "      <td>steps:</td>\n",
       "      <td>14347.17</td>\n",
       "      <td>s</td>\n",
       "    </tr>\n",
       "  </tbody>\n",
       "</table>\n",
       "<p>100 rows × 8 columns</p>\n",
       "</div>"
      ],
      "text/plain": [
       "          0     1   2      3      4       5         6  7\n",
       "0   Elapsed  time  to  train  10000  steps:    141.67  s\n",
       "1   Elapsed  time  to  train  10000  steps:    281.80  s\n",
       "2   Elapsed  time  to  train  10000  steps:    418.47  s\n",
       "3   Elapsed  time  to  train  10000  steps:    556.11  s\n",
       "4   Elapsed  time  to  train  10000  steps:    700.92  s\n",
       "..      ...   ...  ..    ...    ...     ...       ... ..\n",
       "95  Elapsed  time  to  train  10000  steps:  13790.23  s\n",
       "96  Elapsed  time  to  train  10000  steps:  13929.34  s\n",
       "97  Elapsed  time  to  train  10000  steps:  14067.66  s\n",
       "98  Elapsed  time  to  train  10000  steps:  14206.71  s\n",
       "99  Elapsed  time  to  train  10000  steps:  14347.17  s\n",
       "\n",
       "[100 rows x 8 columns]"
      ]
     },
     "execution_count": 4,
     "metadata": {},
     "output_type": "execute_result"
    }
   ],
   "source": [
    "df = pd.read_csv(\"train_time2.csv\", delimiter=\" \", header=None)\n",
    "df"
   ]
  },
  {
   "cell_type": "code",
   "execution_count": 11,
   "id": "5e61b4de-d8da-4a55-acea-6146e64cc557",
   "metadata": {},
   "outputs": [
    {
     "data": {
      "text/plain": [
       "3.985694444444445"
      ]
     },
     "execution_count": 11,
     "metadata": {},
     "output_type": "execute_result"
    }
   ],
   "source": [
    "(df[6].diff().sum() + 143)/60/60"
   ]
  },
  {
   "cell_type": "code",
   "execution_count": null,
   "id": "d174ad5e-79c2-4461-aafc-62e0670e88bd",
   "metadata": {},
   "outputs": [],
   "source": []
  }
 ],
 "metadata": {
  "kernelspec": {
   "display_name": "venv_RL_rtc",
   "language": "python",
   "name": "venv_rl_rtc"
  },
  "language_info": {
   "codemirror_mode": {
    "name": "ipython",
    "version": 3
   },
   "file_extension": ".py",
   "mimetype": "text/x-python",
   "name": "python",
   "nbconvert_exporter": "python",
   "pygments_lexer": "ipython3",
   "version": "3.10.8"
  }
 },
 "nbformat": 4,
 "nbformat_minor": 5
}
