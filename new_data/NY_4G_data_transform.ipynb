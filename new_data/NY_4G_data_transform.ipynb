{
 "cells": [
  {
   "cell_type": "markdown",
   "metadata": {},
   "source": [
    "# Transforming the New York 4G dataset into the format wanted by the simulation (json list)\n",
    "\n",
    "Dataset available at: https://github.com/NYU-METS/Main/tree/master"
   ]
  },
  {
   "cell_type": "code",
   "execution_count": 49,
   "metadata": {},
   "outputs": [],
   "source": [
    "import pandas as pd\n",
    "import os\n",
    "import json\n",
    "import matplotlib.pyplot as plt"
   ]
  },
  {
   "cell_type": "code",
   "execution_count": 57,
   "metadata": {},
   "outputs": [],
   "source": [
    "log_folder = \"../new_data/NY_4G_data\"\n",
    "save_folder = \"../new_data/NY_4G_data_json\""
   ]
  },
  {
   "cell_type": "code",
   "execution_count": 58,
   "metadata": {},
   "outputs": [],
   "source": [
    "logs_list = []\n",
    "for folder, subfolders, files in os.walk(log_folder):\n",
    "    for file in files:\n",
    "        if file.endswith(\"csv\"):\n",
    "            logs_list.append(os.path.join(folder,file))"
   ]
  },
  {
   "cell_type": "code",
   "execution_count": 59,
   "metadata": {},
   "outputs": [
    {
     "name": "stdout",
     "output_type": "stream",
     "text": [
      "['../new_data/NY_4G_data/Dataset_2/7Train/7trainNew.csv', '../new_data/NY_4G_data/Dataset_2/7Train/7BtrainNew.csv', '../new_data/NY_4G_data/Dataset_2/QTrain/QtrainNew.csv', '../new_data/NY_4G_data/Dataset_2/BusBrooklyn/bus62New.csv', '../new_data/NY_4G_data/Dataset_2/BusBrooklyn/bus57New.csv', '../new_data/NY_4G_data/Dataset_1/Bus_B62/bus62_2.csv', '../new_data/NY_4G_data/Dataset_1/Bus_B62/bus62.csv', '../new_data/NY_4G_data/Dataset_1/Car/Car_1.csv', '../new_data/NY_4G_data/Dataset_1/Car/Car_2.csv', '../new_data/NY_4G_data/Dataset_1/Ferry/Ferry4.csv', '../new_data/NY_4G_data/Dataset_1/Ferry/Ferry2.csv', '../new_data/NY_4G_data/Dataset_1/Ferry/Ferry3.csv', '../new_data/NY_4G_data/Dataset_1/Ferry/Ferry5.csv', '../new_data/NY_4G_data/Dataset_1/Ferry/Ferry1.csv', '../new_data/NY_4G_data/Dataset_1/Bus_NYU_Campus/NYU_Campus_Bus.csv', '../new_data/NY_4G_data/Dataset_1/Subway_D_Train/d2.csv', '../new_data/NY_4G_data/Dataset_1/Subway_D_Train/d1.csv', '../new_data/NY_4G_data/Dataset_1/Subway_7Train/7Train1.csv', '../new_data/NY_4G_data/Dataset_1/Subway_7Train/7Train2.csv', '../new_data/NY_4G_data/Dataset_1/Bus_B57/bus57_2.csv', '../new_data/NY_4G_data/Dataset_1/Bus_B57/bus57_1.csv', '../new_data/NY_4G_data/Dataset_1/LIRR/Long_Island_Rail_Road.csv', '../new_data/NY_4G_data/Dataset_1/Bus_M15/M15_1.csv', '../new_data/NY_4G_data/Dataset_1/Bus_M15/M15_2.csv', '../new_data/NY_4G_data/Dataset_1/Subway_Q_Train/Q_Train3.csv', '../new_data/NY_4G_data/Dataset_1/Subway_Q_Train/Q_Train2.csv', '../new_data/NY_4G_data/Dataset_1/Subway_Q_Train/Q_Train1.csv']\n"
     ]
    }
   ],
   "source": [
    "print(logs_list)"
   ]
  },
  {
   "cell_type": "code",
   "execution_count": 76,
   "metadata": {},
   "outputs": [
    {
     "name": "stdout",
     "output_type": "stream",
     "text": [
      "Reading from:  ../new_data/NY_4G_data/Dataset_2/7Train/7trainNew.csv\n",
      "Saving to:  ../new_data/NY_4G_data_json/7Train_7trainNew.json\n",
      "Reading from:  ../new_data/NY_4G_data/Dataset_2/7Train/7BtrainNew.csv\n",
      "Saving to:  ../new_data/NY_4G_data_json/7Train_7BtrainNew.json\n",
      "Reading from:  ../new_data/NY_4G_data/Dataset_2/QTrain/QtrainNew.csv\n",
      "Saving to:  ../new_data/NY_4G_data_json/QTrain_QtrainNew.json\n",
      "Reading from:  ../new_data/NY_4G_data/Dataset_2/BusBrooklyn/bus62New.csv\n",
      "Saving to:  ../new_data/NY_4G_data_json/BusBrooklyn_bus62New.json\n",
      "Reading from:  ../new_data/NY_4G_data/Dataset_2/BusBrooklyn/bus57New.csv\n",
      "Saving to:  ../new_data/NY_4G_data_json/BusBrooklyn_bus57New.json\n",
      "Reading from:  ../new_data/NY_4G_data/Dataset_1/Bus_B62/bus62_2.csv\n",
      "Saving to:  ../new_data/NY_4G_data_json/Bus_B62_bus62_2.json\n",
      "Reading from:  ../new_data/NY_4G_data/Dataset_1/Bus_B62/bus62.csv\n",
      "Saving to:  ../new_data/NY_4G_data_json/Bus_B62_bus62.json\n",
      "Reading from:  ../new_data/NY_4G_data/Dataset_1/Car/Car_1.csv\n",
      "Saving to:  ../new_data/NY_4G_data_json/Car_Car_1.json\n",
      "Reading from:  ../new_data/NY_4G_data/Dataset_1/Car/Car_2.csv\n",
      "Saving to:  ../new_data/NY_4G_data_json/Car_Car_2.json\n",
      "Reading from:  ../new_data/NY_4G_data/Dataset_1/Ferry/Ferry4.csv\n",
      "Saving to:  ../new_data/NY_4G_data_json/Ferry_Ferry4.json\n",
      "Reading from:  ../new_data/NY_4G_data/Dataset_1/Ferry/Ferry2.csv\n",
      "Saving to:  ../new_data/NY_4G_data_json/Ferry_Ferry2.json\n",
      "Reading from:  ../new_data/NY_4G_data/Dataset_1/Ferry/Ferry3.csv\n",
      "Saving to:  ../new_data/NY_4G_data_json/Ferry_Ferry3.json\n",
      "Reading from:  ../new_data/NY_4G_data/Dataset_1/Ferry/Ferry5.csv\n",
      "Saving to:  ../new_data/NY_4G_data_json/Ferry_Ferry5.json\n",
      "Reading from:  ../new_data/NY_4G_data/Dataset_1/Ferry/Ferry1.csv\n",
      "Saving to:  ../new_data/NY_4G_data_json/Ferry_Ferry1.json\n",
      "Reading from:  ../new_data/NY_4G_data/Dataset_1/Bus_NYU_Campus/NYU_Campus_Bus.csv\n",
      "Saving to:  ../new_data/NY_4G_data_json/Bus_NYU_Campus_NYU_Campus_Bus.json\n",
      "Reading from:  ../new_data/NY_4G_data/Dataset_1/Subway_D_Train/d2.csv\n",
      "Saving to:  ../new_data/NY_4G_data_json/Subway_D_Train_d2.json\n",
      "Reading from:  ../new_data/NY_4G_data/Dataset_1/Subway_D_Train/d1.csv\n",
      "Saving to:  ../new_data/NY_4G_data_json/Subway_D_Train_d1.json\n",
      "Reading from:  ../new_data/NY_4G_data/Dataset_1/Subway_7Train/7Train1.csv\n",
      "Saving to:  ../new_data/NY_4G_data_json/Subway_7Train_7Train1.json\n",
      "Reading from:  ../new_data/NY_4G_data/Dataset_1/Subway_7Train/7Train2.csv\n",
      "Saving to:  ../new_data/NY_4G_data_json/Subway_7Train_7Train2.json\n",
      "Reading from:  ../new_data/NY_4G_data/Dataset_1/Bus_B57/bus57_2.csv\n",
      "Saving to:  ../new_data/NY_4G_data_json/Bus_B57_bus57_2.json\n",
      "Reading from:  ../new_data/NY_4G_data/Dataset_1/Bus_B57/bus57_1.csv\n",
      "Saving to:  ../new_data/NY_4G_data_json/Bus_B57_bus57_1.json\n",
      "Reading from:  ../new_data/NY_4G_data/Dataset_1/LIRR/Long_Island_Rail_Road.csv\n",
      "Saving to:  ../new_data/NY_4G_data_json/LIRR_Long_Island_Rail_Road.json\n",
      "Reading from:  ../new_data/NY_4G_data/Dataset_1/Bus_M15/M15_1.csv\n",
      "Saving to:  ../new_data/NY_4G_data_json/Bus_M15_M15_1.json\n",
      "Reading from:  ../new_data/NY_4G_data/Dataset_1/Bus_M15/M15_2.csv\n",
      "Saving to:  ../new_data/NY_4G_data_json/Bus_M15_M15_2.json\n",
      "Reading from:  ../new_data/NY_4G_data/Dataset_1/Subway_Q_Train/Q_Train3.csv\n",
      "Saving to:  ../new_data/NY_4G_data_json/Subway_Q_Train_Q_Train3.json\n",
      "Reading from:  ../new_data/NY_4G_data/Dataset_1/Subway_Q_Train/Q_Train2.csv\n",
      "Saving to:  ../new_data/NY_4G_data_json/Subway_Q_Train_Q_Train2.json\n",
      "Reading from:  ../new_data/NY_4G_data/Dataset_1/Subway_Q_Train/Q_Train1.csv\n",
      "Saving to:  ../new_data/NY_4G_data_json/Subway_Q_Train_Q_Train1.json\n"
     ]
    }
   ],
   "source": [
    "for log_file in logs_list:\n",
    "    \n",
    "    print(\"Reading from: \", log_file)\n",
    "\n",
    "    df = pd.read_csv(log_file, sep=\",\", header=None)\n",
    "    if len(df.columns) > 2:\n",
    "        print(df)\n",
    "        df.columns = [\"capacity\", \"str_Mbps\"] + [\"bla\"]*(len(df.columns)-2)\n",
    "    else:\n",
    "        df.columns = [\"capacity\", \"str_Mbps\"]\n",
    "    df[\"duration\"] = 1000\n",
    "    df[\"capacity\"] = df[\"capacity\"]*1000\n",
    "    df = df[[\"duration\", \"capacity\"]]\n",
    "    df[\"time\"] = df[\"duration\"].cumsum() / 1000\n",
    "\n",
    "    d_final = {\n",
    "        \"type\": \"video\",\n",
    "        \"downlink\": {},\n",
    "        \"uplink\": {\n",
    "            \"trace_pattern\": df[[\"time\", \"duration\", \"capacity\"]].to_dict(orient=\"records\")\n",
    "        },\n",
    "    }\n",
    "    \n",
    "    save_file = log_file.split(\"/\")[-2] + \"_\" + log_file.split(\"/\")[-1].split(\".\")[0] + \".json\"\n",
    "    print(\"Saving to: \", os.path.join(save_folder,save_file))\n",
    "    \n",
    "    with open(os.path.join(save_folder,save_file), \"w\") as log_save:\n",
    "        json.dump(d_final, log_save)"
   ]
  }
 ],
 "metadata": {
  "kernelspec": {
   "display_name": "Python 3",
   "language": "python",
   "name": "python3"
  },
  "language_info": {
   "codemirror_mode": {
    "name": "ipython",
    "version": 3
   },
   "file_extension": ".py",
   "mimetype": "text/x-python",
   "name": "python",
   "nbconvert_exporter": "python",
   "pygments_lexer": "ipython3",
   "version": "3.8.3"
  }
 },
 "nbformat": 4,
 "nbformat_minor": 5
}
